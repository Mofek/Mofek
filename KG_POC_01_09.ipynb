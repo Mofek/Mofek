{
  "nbformat": 4,
  "nbformat_minor": 0,
  "metadata": {
    "colab": {
      "provenance": [],
      "authorship_tag": "ABX9TyOSZpVgq0StZPvYy9w50yaA",
      "include_colab_link": true
    },
    "kernelspec": {
      "name": "python3",
      "display_name": "Python 3"
    },
    "language_info": {
      "name": "python"
    },
    "widgets": {
      "application/vnd.jupyter.widget-state+json": {
        "70c71c94e9c54bdb8b96db285a02e2cb": {
          "model_module": "yfiles-jupyter-graphs",
          "model_name": "GraphModel",
          "model_module_version": "^1.8.1",
          "state": {
            "_context_pane_mapping": [
              {
                "id": "Neighborhood",
                "title": "Neighborhood"
              },
              {
                "id": "Data",
                "title": "Data"
              },
              {
                "id": "Search",
                "title": "Search"
              },
              {
                "id": "About",
                "title": "About"
              }
            ],
            "_data_importer": "neo4j",
            "_directed": true,
            "_dom_classes": [],
            "_edges": [
              {
                "id": 1153235964932391000,
                "start": 98,
                "end": 99,
                "properties": {
                  "label": "HAS_LEGACY"
                },
                "label": "HAS_LEGACY",
                "color": "#9C27B0",
                "thickness_factor": 1,
                "directed": true
              },
              {
                "id": 1155487764746076200,
                "start": 98,
                "end": 100,
                "properties": {
                  "label": "HAS_LEGACY"
                },
                "label": "HAS_LEGACY",
                "color": "#9C27B0",
                "thickness_factor": 1,
                "directed": true
              },
              {
                "id": 1153061142583574500,
                "start": 103,
                "end": 102,
                "properties": {
                  "label": "ORIGINATES_FROM"
                },
                "label": "ORIGINATES_FROM",
                "color": "#2196F3",
                "thickness_factor": 1,
                "directed": true
              },
              {
                "id": 1153062242095202300,
                "start": 103,
                "end": 104,
                "properties": {
                  "label": "INTERTWINED_WITH"
                },
                "label": "INTERTWINED_WITH",
                "color": "#4CAF50",
                "thickness_factor": 1,
                "directed": true
              },
              {
                "id": 6917712646082920000,
                "start": 103,
                "end": 357,
                "properties": {
                  "label": "INFLUENCED"
                },
                "label": "INFLUENCED",
                "color": "#F44336",
                "thickness_factor": 1,
                "directed": true
              },
              {
                "id": 1153110620606824400,
                "start": 103,
                "end": 177,
                "properties": {
                  "label": "HAS_EMPIRE"
                },
                "label": "HAS_EMPIRE",
                "color": "#607D8B",
                "thickness_factor": 1,
                "directed": true
              },
              {
                "id": 1153111720118452200,
                "start": 103,
                "end": 179,
                "properties": {
                  "label": "SHOWCASES"
                },
                "label": "SHOWCASES",
                "color": "#673AB7",
                "thickness_factor": 1,
                "directed": true
              },
              {
                "id": 1153152402048680000,
                "start": 103,
                "end": 112,
                "properties": {
                  "label": "BELIEVES_IN"
                },
                "label": "BELIEVES_IN",
                "color": "#CDDC39",
                "thickness_factor": 1,
                "directed": true
              },
              {
                "id": 1153153501560307700,
                "start": 103,
                "end": 274,
                "properties": {
                  "label": "COMMITMENT_TO"
                },
                "label": "COMMITMENT_TO",
                "color": "#9E9E9E",
                "thickness_factor": 1,
                "directed": true
              },
              {
                "id": 1153154601071935500,
                "start": 103,
                "end": 276,
                "properties": {
                  "label": "REFLECTED_IN"
                },
                "label": "REFLECTED_IN",
                "color": "#9C27B0",
                "thickness_factor": 1,
                "directed": true
              },
              {
                "id": 6917801706524770000,
                "start": 103,
                "end": 112,
                "properties": {
                  "label": "PHILOSOPHY"
                },
                "label": "PHILOSOPHY",
                "color": "#2196F3",
                "thickness_factor": 1,
                "directed": true
              },
              {
                "id": 6917801706524770000,
                "start": 103,
                "end": 270,
                "properties": {
                  "label": "PHILOSOPHY"
                },
                "label": "PHILOSOPHY",
                "color": "#2196F3",
                "thickness_factor": 1,
                "directed": true
              },
              {
                "id": 6917811602129420000,
                "start": 103,
                "end": 112,
                "properties": {
                  "label": "BELIEF_IN"
                },
                "label": "BELIEF_IN",
                "color": "#4CAF50",
                "thickness_factor": 1,
                "directed": true
              },
              {
                "id": 6917812701641048000,
                "start": 103,
                "end": 100,
                "properties": {
                  "label": "POWER_OF"
                },
                "label": "POWER_OF",
                "color": "#F44336",
                "thickness_factor": 1,
                "directed": true
              },
              {
                "id": 6917812701641048000,
                "start": 103,
                "end": 360,
                "properties": {
                  "label": "POWER_OF"
                },
                "label": "POWER_OF",
                "color": "#F44336",
                "thickness_factor": 1,
                "directed": true
              },
              {
                "id": 6917812701641048000,
                "start": 103,
                "end": 361,
                "properties": {
                  "label": "POWER_OF"
                },
                "label": "POWER_OF",
                "color": "#F44336",
                "thickness_factor": 1,
                "directed": true
              },
              {
                "id": 6917842388454998000,
                "start": 103,
                "end": 237,
                "properties": {
                  "label": "MIGRATED_TO"
                },
                "label": "MIGRATED_TO",
                "color": "#607D8B",
                "thickness_factor": 1,
                "directed": true
              },
              {
                "id": 1153064441118457900,
                "start": 106,
                "end": 108,
                "properties": {
                  "label": "SPANNED"
                },
                "label": "SPANNED",
                "color": "#673AB7",
                "thickness_factor": 1,
                "directed": true
              },
              {
                "id": 1153063341606830000,
                "start": 107,
                "end": 106,
                "properties": {
                  "label": "KEEPER_OF"
                },
                "label": "KEEPER_OF",
                "color": "#CDDC39",
                "thickness_factor": 1,
                "directed": true
              },
              {
                "id": 1153065540630085600,
                "start": 107,
                "end": 109,
                "properties": {
                  "label": "CONTRIBUTED"
                },
                "label": "CONTRIBUTED",
                "color": "#9E9E9E",
                "thickness_factor": 1,
                "directed": true
              },
              {
                "id": 1153067739653341200,
                "start": 107,
                "end": 99,
                "properties": {
                  "label": "DEEP_SEATED"
                },
                "label": "DEEP_SEATED",
                "color": "#9C27B0",
                "thickness_factor": 1,
                "directed": true
              },
              {
                "id": 1153066640141713400,
                "start": 109,
                "end": 110,
                "properties": {
                  "label": "REFLECTED"
                },
                "label": "REFLECTED",
                "color": "#2196F3",
                "thickness_factor": 1,
                "directed": true
              },
              {
                "id": 1153206278118441000,
                "start": 112,
                "end": 343,
                "properties": {
                  "label": "CONNECTS"
                },
                "label": "CONNECTS",
                "color": "#4CAF50",
                "thickness_factor": 1,
                "directed": true
              },
              {
                "id": 1152921504606847000,
                "start": 114,
                "end": 116,
                "properties": {
                  "label": "PART_OF"
                },
                "label": "PART_OF",
                "color": "#F44336",
                "thickness_factor": 1,
                "directed": true
              },
              {
                "id": 1153068839164969000,
                "start": 114,
                "end": 102,
                "properties": {
                  "label": "CULTIVATED_IN"
                },
                "label": "CULTIVATED_IN",
                "color": "#607D8B",
                "thickness_factor": 1,
                "directed": true
              },
              {
                "id": 1152921504606847000,
                "start": 115,
                "end": 116,
                "properties": {
                  "label": "PART_OF"
                },
                "label": "PART_OF",
                "color": "#F44336",
                "thickness_factor": 1,
                "directed": true
              },
              {
                "id": 1153073237211480000,
                "start": 115,
                "end": 115,
                "properties": {
                  "label": "MASTERFUL_COOK"
                },
                "label": "MASTERFUL_COOK",
                "color": "#673AB7",
                "thickness_factor": 1,
                "directed": true
              },
              {
                "id": 1153078734769619000,
                "start": 115,
                "end": 130,
                "properties": {
                  "label": "PARENT"
                },
                "label": "PARENT",
                "color": "#CDDC39",
                "thickness_factor": 1,
                "directed": true
              },
              {
                "id": 1153239263467274200,
                "start": 115,
                "end": 115,
                "properties": {
                  "label": "COOK"
                },
                "label": "COOK",
                "color": "#9E9E9E",
                "thickness_factor": 1,
                "directed": true
              },
              {
                "id": 1153069938676596700,
                "start": 119,
                "end": 115,
                "properties": {
                  "label": "MARRIED_TO"
                },
                "label": "MARRIED_TO",
                "color": "#9C27B0",
                "thickness_factor": 1,
                "directed": true
              },
              {
                "id": 1153078734769619000,
                "start": 119,
                "end": 130,
                "properties": {
                  "label": "PARENT"
                },
                "label": "PARENT",
                "color": "#CDDC39",
                "thickness_factor": 1,
                "directed": true
              },
              {
                "id": 1153237064444018700,
                "start": 119,
                "end": 119,
                "properties": {
                  "label": "FARMER"
                },
                "label": "FARMER",
                "color": "#2196F3",
                "thickness_factor": 1,
                "directed": true
              },
              {
                "id": 1153238163955646500,
                "start": 119,
                "end": 119,
                "properties": {
                  "label": "ALCHEMIST_OF_FLAVORS"
                },
                "label": "ALCHEMIST_OF_FLAVORS",
                "color": "#4CAF50",
                "thickness_factor": 1,
                "directed": true
              },
              {
                "id": 1153074336723107800,
                "start": 123,
                "end": 121,
                "properties": {
                  "label": "PASSED_DOWN"
                },
                "label": "PASSED_DOWN",
                "color": "#F44336",
                "thickness_factor": 1,
                "directed": true
              },
              {
                "id": 1155326136536793000,
                "start": 123,
                "end": 122,
                "properties": {
                  "label": "PASSED_DOWN"
                },
                "label": "PASSED_DOWN",
                "color": "#F44336",
                "thickness_factor": 1,
                "directed": true
              },
              {
                "id": 1153096326955663400,
                "start": 124,
                "end": 99,
                "properties": {
                  "label": "INCLUDES"
                },
                "label": "INCLUDES",
                "color": "#607D8B",
                "thickness_factor": 1,
                "directed": true
              },
              {
                "id": 1153076535746363400,
                "start": 125,
                "end": 126,
                "properties": {
                  "label": "INTRODUCED_TO"
                },
                "label": "INTRODUCED_TO",
                "color": "#673AB7",
                "thickness_factor": 1,
                "directed": true
              },
              {
                "id": 1153109521095196700,
                "start": 128,
                "end": 184,
                "properties": {
                  "label": "OWNS"
                },
                "label": "OWNS",
                "color": "#CDDC39",
                "thickness_factor": 1,
                "directed": true
              },
              {
                "id": 1153210676164952000,
                "start": 128,
                "end": 128,
                "properties": {
                  "label": "INNOVATOR"
                },
                "label": "INNOVATOR",
                "color": "#9E9E9E",
                "thickness_factor": 1,
                "directed": true
              },
              {
                "id": 1153211775676579800,
                "start": 128,
                "end": 128,
                "properties": {
                  "label": "STORYTELLER"
                },
                "label": "STORYTELLER",
                "color": "#9C27B0",
                "thickness_factor": 1,
                "directed": true
              },
              {
                "id": 1153079834281247000,
                "start": 130,
                "end": 132,
                "properties": {
                  "label": "LIVES_IN"
                },
                "label": "LIVES_IN",
                "color": "#2196F3",
                "thickness_factor": 1,
                "directed": true
              },
              {
                "id": 1155331634094932200,
                "start": 130,
                "end": 133,
                "properties": {
                  "label": "LIVES_IN"
                },
                "label": "LIVES_IN",
                "color": "#2196F3",
                "thickness_factor": 1,
                "directed": true
              },
              {
                "id": 1153080933792874800,
                "start": 130,
                "end": 135,
                "properties": {
                  "label": "BLENDS"
                },
                "label": "BLENDS",
                "color": "#4CAF50",
                "thickness_factor": 1,
                "directed": true
              },
              {
                "id": 1153082033304502500,
                "start": 130,
                "end": 136,
                "properties": {
                  "label": "TRAVELED_TO"
                },
                "label": "TRAVELED_TO",
                "color": "#F44336",
                "thickness_factor": 1,
                "directed": true
              },
              {
                "id": 1153083132816130300,
                "start": 130,
                "end": 132,
                "properties": {
                  "label": "GO_TO_CHEF_FOR"
                },
                "label": "GO_TO_CHEF_FOR",
                "color": "#607D8B",
                "thickness_factor": 1,
                "directed": true
              },
              {
                "id": 1153084232327758000,
                "start": 130,
                "end": 137,
                "properties": {
                  "label": "CREATES_FOR"
                },
                "label": "CREATES_FOR",
                "color": "#673AB7",
                "thickness_factor": 1,
                "directed": true
              },
              {
                "id": 1155336032141443300,
                "start": 130,
                "end": 138,
                "properties": {
                  "label": "CREATES_FOR"
                },
                "label": "CREATES_FOR",
                "color": "#673AB7",
                "thickness_factor": 1,
                "directed": true
              },
              {
                "id": 6917720342664315000,
                "start": 130,
                "end": 189,
                "properties": {
                  "label": "OFFERS"
                },
                "label": "OFFERS",
                "color": "#CDDC39",
                "thickness_factor": 1,
                "directed": true
              },
              {
                "id": 6917720342664315000,
                "start": 130,
                "end": 190,
                "properties": {
                  "label": "OFFERS"
                },
                "label": "OFFERS",
                "color": "#CDDC39",
                "thickness_factor": 1,
                "directed": true
              },
              {
                "id": 6917720342664315000,
                "start": 130,
                "end": 191,
                "properties": {
                  "label": "OFFERS"
                },
                "label": "OFFERS",
                "color": "#CDDC39",
                "thickness_factor": 1,
                "directed": true
              },
              {
                "id": 6917723641199198000,
                "start": 130,
                "end": 102,
                "properties": {
                  "label": "PERFECTED_CRAFT_IN"
                },
                "label": "PERFECTED_CRAFT_IN",
                "color": "#9E9E9E",
                "thickness_factor": 1,
                "directed": true
              },
              {
                "id": 6917724740710826000,
                "start": 130,
                "end": 186,
                "properties": {
                  "label": "VENTURED_TO"
                },
                "label": "VENTURED_TO",
                "color": "#9C27B0",
                "thickness_factor": 1,
                "directed": true
              },
              {
                "id": 6917725840222454000,
                "start": 130,
                "end": 184,
                "properties": {
                  "label": "OPENED"
                },
                "label": "OPENED",
                "color": "#2196F3",
                "thickness_factor": 1,
                "directed": true
              },
              {
                "id": 6917731337780593000,
                "start": 130,
                "end": 119,
                "properties": {
                  "label": "FATHER"
                },
                "label": "FATHER",
                "color": "#4CAF50",
                "thickness_factor": 1,
                "directed": true
              },
              {
                "id": 6917731337780593000,
                "start": 130,
                "end": 144,
                "properties": {
                  "label": "FATHER"
                },
                "label": "FATHER",
                "color": "#4CAF50",
                "thickness_factor": 1,
                "directed": true
              },
              {
                "id": 6917732437292220000,
                "start": 130,
                "end": 184,
                "properties": {
                  "label": "CULINARY_LANDMARK"
                },
                "label": "CULINARY_LANDMARK",
                "color": "#F44336",
                "thickness_factor": 1,
                "directed": true
              },
              {
                "id": 6917765422641054000,
                "start": 130,
                "end": 283,
                "properties": {
                  "label": "HOSTED"
                },
                "label": "HOSTED",
                "color": "#607D8B",
                "thickness_factor": 1,
                "directed": true
              },
              {
                "id": 6917767621664309000,
                "start": 130,
                "end": 287,
                "properties": {
                  "label": "SHARED"
                },
                "label": "SHARED",
                "color": "#673AB7",
                "thickness_factor": 1,
                "directed": true
              },
              {
                "id": 1153251358095180000,
                "start": 130,
                "end": 131,
                "properties": {
                  "label": "IS_ELDEST_SON_OF"
                },
                "label": "IS_ELDEST_SON_OF",
                "color": "#CDDC39",
                "thickness_factor": 1,
                "directed": true
              },
              {
                "id": 1153085331839385900,
                "start": 138,
                "end": 140,
                "properties": {
                  "label": "CREATES"
                },
                "label": "CREATES",
                "color": "#9E9E9E",
                "thickness_factor": 1,
                "directed": true
              },
              {
                "id": 1153086431351013600,
                "start": 140,
                "end": 141,
                "properties": {
                  "label": "FUSION_OF"
                },
                "label": "FUSION_OF",
                "color": "#9C27B0",
                "thickness_factor": 1,
                "directed": true
              },
              {
                "id": 1153087530862641400,
                "start": 141,
                "end": 142,
                "properties": {
                  "label": "LAYS_GROUNDWORK_FOR"
                },
                "label": "LAYS_GROUNDWORK_FOR",
                "color": "#2196F3",
                "thickness_factor": 1,
                "directed": true
              },
              {
                "id": 6917686257803854000,
                "start": 144,
                "end": 155,
                "properties": {
                  "label": "PARENT"
                },
                "label": "PARENT",
                "color": "#CDDC39",
                "thickness_factor": 1,
                "directed": true
              },
              {
                "id": 1153088630374269200,
                "start": 144,
                "end": 145,
                "properties": {
                  "label": "GUARDIAN_OF"
                },
                "label": "GUARDIAN_OF",
                "color": "#4CAF50",
                "thickness_factor": 1,
                "directed": true
              },
              {
                "id": 1153090829397524700,
                "start": 144,
                "end": 147,
                "properties": {
                  "label": "LOVES"
                },
                "label": "LOVES",
                "color": "#F44336",
                "thickness_factor": 1,
                "directed": true
              },
              {
                "id": 1155342629211210000,
                "start": 144,
                "end": 148,
                "properties": {
                  "label": "LOVES"
                },
                "label": "LOVES",
                "color": "#F44336",
                "thickness_factor": 1,
                "directed": true
              },
              {
                "id": 1153091928909152500,
                "start": 144,
                "end": 149,
                "properties": {
                  "label": "CATCHES"
                },
                "label": "CATCHES",
                "color": "#607D8B",
                "thickness_factor": 1,
                "directed": true
              },
              {
                "id": 1153093028420780300,
                "start": 144,
                "end": 150,
                "properties": {
                  "label": "RUNS"
                },
                "label": "RUNS",
                "color": "#673AB7",
                "thickness_factor": 1,
                "directed": true
              },
              {
                "id": 6917702750478270000,
                "start": 144,
                "end": 158,
                "properties": {
                  "label": "INSTILLED"
                },
                "label": "INSTILLED",
                "color": "#CDDC39",
                "thickness_factor": 1,
                "directed": true
              },
              {
                "id": 6917702750478270000,
                "start": 144,
                "end": 159,
                "properties": {
                  "label": "INSTILLED"
                },
                "label": "INSTILLED",
                "color": "#CDDC39",
                "thickness_factor": 1,
                "directed": true
              },
              {
                "id": 6917702750478270000,
                "start": 144,
                "end": 160,
                "properties": {
                  "label": "INSTILLED"
                },
                "label": "INSTILLED",
                "color": "#CDDC39",
                "thickness_factor": 1,
                "directed": true
              },
              {
                "id": 6917725840222454000,
                "start": 144,
                "end": 196,
                "properties": {
                  "label": "OPENED"
                },
                "label": "OPENED",
                "color": "#2196F3",
                "thickness_factor": 1,
                "directed": true
              },
              {
                "id": 6917768721175937000,
                "start": 144,
                "end": 284,
                "properties": {
                  "label": "OFFERED"
                },
                "label": "OFFERED",
                "color": "#9E9E9E",
                "thickness_factor": 1,
                "directed": true
              },
              {
                "id": 6917660969036415000,
                "start": 145,
                "end": 203,
                "properties": {
                  "label": "HAS"
                },
                "label": "HAS",
                "color": "#9C27B0",
                "thickness_factor": 1,
                "directed": true
              },
              {
                "id": 6917685158292226000,
                "start": 145,
                "end": 151,
                "properties": {
                  "label": "IS"
                },
                "label": "IS",
                "color": "#2196F3",
                "thickness_factor": 1,
                "directed": true
              },
              {
                "id": 6919938057617539000,
                "start": 145,
                "end": 155,
                "properties": {
                  "label": "PARENT"
                },
                "label": "PARENT",
                "color": "#CDDC39",
                "thickness_factor": 1,
                "directed": true
              },
              {
                "id": 6917692854873620000,
                "start": 145,
                "end": 224,
                "properties": {
                  "label": "CREATES"
                },
                "label": "CREATES",
                "color": "#9E9E9E",
                "thickness_factor": 1,
                "directed": true
              },
              {
                "id": 6917692854873620000,
                "start": 145,
                "end": 225,
                "properties": {
                  "label": "CREATES"
                },
                "label": "CREATES",
                "color": "#9E9E9E",
                "thickness_factor": 1,
                "directed": true
              },
              {
                "id": 6919947953222189000,
                "start": 145,
                "end": 144,
                "properties": {
                  "label": "GUARDIAN_OF"
                },
                "label": "GUARDIAN_OF",
                "color": "#4CAF50",
                "thickness_factor": 1,
                "directed": true
              },
              {
                "id": 1153093028420780300,
                "start": 145,
                "end": 150,
                "properties": {
                  "label": "RUNS"
                },
                "label": "RUNS",
                "color": "#673AB7",
                "thickness_factor": 1,
                "directed": true
              },
              {
                "id": 1153094127932408000,
                "start": 145,
                "end": 150,
                "properties": {
                  "label": "BAKER"
                },
                "label": "BAKER",
                "color": "#4CAF50",
                "thickness_factor": 1,
                "directed": true
              },
              {
                "id": 6919954550291956000,
                "start": 145,
                "end": 158,
                "properties": {
                  "label": "INSTILLED"
                },
                "label": "INSTILLED",
                "color": "#CDDC39",
                "thickness_factor": 1,
                "directed": true
              },
              {
                "id": 6919954550291956000,
                "start": 145,
                "end": 159,
                "properties": {
                  "label": "INSTILLED"
                },
                "label": "INSTILLED",
                "color": "#CDDC39",
                "thickness_factor": 1,
                "directed": true
              },
              {
                "id": 6919954550291956000,
                "start": 145,
                "end": 160,
                "properties": {
                  "label": "INSTILLED"
                },
                "label": "INSTILLED",
                "color": "#CDDC39",
                "thickness_factor": 1,
                "directed": true
              },
              {
                "id": 6917740133873615000,
                "start": 145,
                "end": 215,
                "properties": {
                  "label": "FOUNDED"
                },
                "label": "FOUNDED",
                "color": "#F44336",
                "thickness_factor": 1,
                "directed": true
              },
              {
                "id": 6920020520989622000,
                "start": 145,
                "end": 284,
                "properties": {
                  "label": "OFFERED"
                },
                "label": "OFFERED",
                "color": "#9E9E9E",
                "thickness_factor": 1,
                "directed": true
              },
              {
                "id": 6917830293827092000,
                "start": 145,
                "end": 192,
                "properties": {
                  "label": "ATTENTION_TO_DETAIL"
                },
                "label": "ATTENTION_TO_DETAIL",
                "color": "#607D8B",
                "thickness_factor": 1,
                "directed": true
              },
              {
                "id": 6917831393338720000,
                "start": 145,
                "end": 192,
                "properties": {
                  "label": "COMMITMENT_TO_LOCALLY_SOURCED"
                },
                "label": "COMMITMENT_TO_LOCALLY_SOURCED",
                "color": "#673AB7",
                "thickness_factor": 1,
                "directed": true
              },
              {
                "id": 6917862179664298000,
                "start": 145,
                "end": 208,
                "properties": {
                  "label": "ADDS_TO_MENU"
                },
                "label": "ADDS_TO_MENU",
                "color": "#CDDC39",
                "thickness_factor": 1,
                "directed": true
              },
              {
                "id": 6917862179664298000,
                "start": 145,
                "end": 209,
                "properties": {
                  "label": "ADDS_TO_MENU"
                },
                "label": "ADDS_TO_MENU",
                "color": "#CDDC39",
                "thickness_factor": 1,
                "directed": true
              },
              {
                "id": 1153096326955663600,
                "start": 154,
                "end": 156,
                "properties": {
                  "label": "INCLUDES"
                },
                "label": "INCLUDES",
                "color": "#607D8B",
                "thickness_factor": 1,
                "directed": true
              },
              {
                "id": 1155348126769348900,
                "start": 154,
                "end": 157,
                "properties": {
                  "label": "INCLUDES"
                },
                "label": "INCLUDES",
                "color": "#607D8B",
                "thickness_factor": 1,
                "directed": true
              },
              {
                "id": 1153118317188219100,
                "start": 155,
                "end": 236,
                "properties": {
                  "label": "OPENED"
                },
                "label": "OPENED",
                "color": "#2196F3",
                "thickness_factor": 1,
                "directed": true
              },
              {
                "id": 1153121615723102500,
                "start": 155,
                "end": 239,
                "properties": {
                  "label": "FEATURES"
                },
                "label": "FEATURES",
                "color": "#9E9E9E",
                "thickness_factor": 1,
                "directed": true
              },
              {
                "id": 1155373415536787700,
                "start": 155,
                "end": 240,
                "properties": {
                  "label": "FEATURES"
                },
                "label": "FEATURES",
                "color": "#9E9E9E",
                "thickness_factor": 1,
                "directed": true
              },
              {
                "id": 1153139207909147000,
                "start": 155,
                "end": 241,
                "properties": {
                  "label": "HAS_PASSION_FOR"
                },
                "label": "HAS_PASSION_FOR",
                "color": "#9C27B0",
                "thickness_factor": 1,
                "directed": true
              },
              {
                "id": 1153141406932402400,
                "start": 155,
                "end": 179,
                "properties": {
                  "label": "INCORPORATES_INFLUENCES_FROM"
                },
                "label": "INCORPORATES_INFLUENCES_FROM",
                "color": "#2196F3",
                "thickness_factor": 1,
                "directed": true
              },
              {
                "id": 6917756626548031000,
                "start": 155,
                "end": 274,
                "properties": {
                  "label": "SUPPORTS"
                },
                "label": "SUPPORTS",
                "color": "#4CAF50",
                "thickness_factor": 1,
                "directed": true
              },
              {
                "id": 6917758825571287000,
                "start": 155,
                "end": 273,
                "properties": {
                  "label": "INVOLVED_IN"
                },
                "label": "INVOLVED_IN",
                "color": "#F44336",
                "thickness_factor": 1,
                "directed": true
              },
              {
                "id": 6917775318245704000,
                "start": 155,
                "end": 299,
                "properties": {
                  "label": "SPEARHEAD"
                },
                "label": "SPEARHEAD",
                "color": "#607D8B",
                "thickness_factor": 1,
                "directed": true
              },
              {
                "id": 6917802806036398000,
                "start": 155,
                "end": 270,
                "properties": {
                  "label": "ADVOCATE"
                },
                "label": "ADVOCATE",
                "color": "#673AB7",
                "thickness_factor": 1,
                "directed": true
              },
              {
                "id": 6917840189431742000,
                "start": 155,
                "end": 348,
                "properties": {
                  "label": "HOST"
                },
                "label": "HOST",
                "color": "#CDDC39",
                "thickness_factor": 1,
                "directed": true
              },
              {
                "id": 6917685158292226000,
                "start": 164,
                "end": 165,
                "properties": {
                  "label": "IS"
                },
                "label": "IS",
                "color": "#2196F3",
                "thickness_factor": 1,
                "directed": true
              },
              {
                "id": 6917706049013154000,
                "start": 164,
                "end": 165,
                "properties": {
                  "label": "MENTOR"
                },
                "label": "MENTOR",
                "color": "#9E9E9E",
                "thickness_factor": 1,
                "directed": true
              },
              {
                "id": 1153104023537058000,
                "start": 164,
                "end": 170,
                "properties": {
                  "label": "TAUGHT"
                },
                "label": "TAUGHT",
                "color": "#9C27B0",
                "thickness_factor": 1,
                "directed": true
              },
              {
                "id": 1155356922862371000,
                "start": 164,
                "end": 156,
                "properties": {
                  "label": "INFLUENCED"
                },
                "label": "INFLUENCED",
                "color": "#F44336",
                "thickness_factor": 1,
                "directed": true
              },
              {
                "id": 1153105123048685800,
                "start": 164,
                "end": 169,
                "properties": {
                  "label": "INFLUENCED"
                },
                "label": "INFLUENCED",
                "color": "#F44336",
                "thickness_factor": 1,
                "directed": true
              },
              {
                "id": 1153099625490547000,
                "start": 167,
                "end": 130,
                "properties": {
                  "label": "SISTER"
                },
                "label": "SISTER",
                "color": "#2196F3",
                "thickness_factor": 1,
                "directed": true
              },
              {
                "id": 1153100725002174700,
                "start": 167,
                "end": 155,
                "properties": {
                  "label": "GRANDMOTHER"
                },
                "label": "GRANDMOTHER",
                "color": "#4CAF50",
                "thickness_factor": 1,
                "directed": true
              },
              {
                "id": 1153101824513802500,
                "start": 167,
                "end": 103,
                "properties": {
                  "label": "MATRIARCH"
                },
                "label": "MATRIARCH",
                "color": "#F44336",
                "thickness_factor": 1,
                "directed": true
              },
              {
                "id": 1153102924025430300,
                "start": 167,
                "end": 167,
                "properties": {
                  "label": "CUSTODIAN_OF_RECIPES"
                },
                "label": "CUSTODIAN_OF_RECIPES",
                "color": "#607D8B",
                "thickness_factor": 1,
                "directed": true
              },
              {
                "id": 6917733536803848000,
                "start": 167,
                "end": 254,
                "properties": {
                  "label": "LOCATED_IN"
                },
                "label": "LOCATED_IN",
                "color": "#673AB7",
                "thickness_factor": 1,
                "directed": true
              },
              {
                "id": 1153132610839380200,
                "start": 167,
                "end": 255,
                "properties": {
                  "label": "FOUNDED"
                },
                "label": "FOUNDED",
                "color": "#F44336",
                "thickness_factor": 1,
                "directed": true
              },
              {
                "id": 1153144705467285800,
                "start": 167,
                "end": 256,
                "properties": {
                  "label": "NAMED_AFTER"
                },
                "label": "NAMED_AFTER",
                "color": "#CDDC39",
                "thickness_factor": 1,
                "directed": true
              },
              {
                "id": 1153145804978913500,
                "start": 167,
                "end": 256,
                "properties": {
                  "label": "INHERITED_TALENT"
                },
                "label": "INHERITED_TALENT",
                "color": "#9E9E9E",
                "thickness_factor": 1,
                "directed": true
              },
              {
                "id": 1153146904490541300,
                "start": 167,
                "end": 104,
                "properties": {
                  "label": "BROUGHT_TO"
                },
                "label": "BROUGHT_TO",
                "color": "#9C27B0",
                "thickness_factor": 1,
                "directed": true
              },
              {
                "id": 1155398704304226600,
                "start": 167,
                "end": 254,
                "properties": {
                  "label": "BROUGHT_TO"
                },
                "label": "BROUGHT_TO",
                "color": "#9C27B0",
                "thickness_factor": 1,
                "directed": true
              },
              {
                "id": 6917756626548031000,
                "start": 167,
                "end": 255,
                "properties": {
                  "label": "SUPPORTS"
                },
                "label": "SUPPORTS",
                "color": "#4CAF50",
                "thickness_factor": 1,
                "directed": true
              },
              {
                "id": 6917756626548031000,
                "start": 167,
                "end": 268,
                "properties": {
                  "label": "SUPPORTS"
                },
                "label": "SUPPORTS",
                "color": "#4CAF50",
                "thickness_factor": 1,
                "directed": true
              },
              {
                "id": 6917770920199193000,
                "start": 167,
                "end": 289,
                "properties": {
                  "label": "FOCUSED_ON"
                },
                "label": "FOCUSED_ON",
                "color": "#2196F3",
                "thickness_factor": 1,
                "directed": true
              },
              {
                "id": 6917865478199181000,
                "start": 167,
                "end": 283,
                "properties": {
                  "label": "CONDUCTED"
                },
                "label": "CONDUCTED",
                "color": "#4CAF50",
                "thickness_factor": 1,
                "directed": true
              },
              {
                "id": 1153106222560313600,
                "start": 172,
                "end": 173,
                "properties": {
                  "label": "GUIDE"
                },
                "label": "GUIDE",
                "color": "#F44336",
                "thickness_factor": 1,
                "directed": true
              },
              {
                "id": 1153107322071941400,
                "start": 172,
                "end": 174,
                "properties": {
                  "label": "IMPART"
                },
                "label": "IMPART",
                "color": "#607D8B",
                "thickness_factor": 1,
                "directed": true
              },
              {
                "id": 1153252457606807800,
                "start": 172,
                "end": 173,
                "properties": {
                  "label": "STRENGTH"
                },
                "label": "STRENGTH",
                "color": "#673AB7",
                "thickness_factor": 1,
                "directed": true
              },
              {
                "id": 1153253557118435600,
                "start": 172,
                "end": 173,
                "properties": {
                  "label": "WISDOM"
                },
                "label": "WISDOM",
                "color": "#CDDC39",
                "thickness_factor": 1,
                "directed": true
              },
              {
                "id": 6917756626548031000,
                "start": 173,
                "end": 181,
                "properties": {
                  "label": "SUPPORTS"
                },
                "label": "SUPPORTS",
                "color": "#4CAF50",
                "thickness_factor": 1,
                "directed": true
              },
              {
                "id": 6917756626548031000,
                "start": 173,
                "end": 350,
                "properties": {
                  "label": "SUPPORTS"
                },
                "label": "SUPPORTS",
                "color": "#4CAF50",
                "thickness_factor": 1,
                "directed": true
              },
              {
                "id": 1153165596188213500,
                "start": 173,
                "end": 294,
                "properties": {
                  "label": "MENTORSHIP_PROGRAM"
                },
                "label": "MENTORSHIP_PROGRAM",
                "color": "#9E9E9E",
                "thickness_factor": 1,
                "directed": true
              },
              {
                "id": 1153175491792863500,
                "start": 173,
                "end": 308,
                "properties": {
                  "label": "WORKED_TOGETHER"
                },
                "label": "WORKED_TOGETHER",
                "color": "#9C27B0",
                "thickness_factor": 1,
                "directed": true
              },
              {
                "id": 6917792910431748000,
                "start": 173,
                "end": 177,
                "properties": {
                  "label": "CONTRIBUTED_TO"
                },
                "label": "CONTRIBUTED_TO",
                "color": "#2196F3",
                "thickness_factor": 1,
                "directed": true
              },
              {
                "id": 6917805005059654000,
                "start": 173,
                "end": 351,
                "properties": {
                  "label": "COLLABORATES_WITH"
                },
                "label": "COLLABORATES_WITH",
                "color": "#4CAF50",
                "thickness_factor": 1,
                "directed": true
              },
              {
                "id": 6917805005059654000,
                "start": 173,
                "end": 352,
                "properties": {
                  "label": "COLLABORATES_WITH"
                },
                "label": "COLLABORATES_WITH",
                "color": "#4CAF50",
                "thickness_factor": 1,
                "directed": true
              },
              {
                "id": 6917806104571281000,
                "start": 173,
                "end": 353,
                "properties": {
                  "label": "ENRICHES"
                },
                "label": "ENRICHES",
                "color": "#F44336",
                "thickness_factor": 1,
                "directed": true
              },
              {
                "id": 6917809403106165000,
                "start": 173,
                "end": 274,
                "properties": {
                  "label": "COMMITTED_TO"
                },
                "label": "COMMITTED_TO",
                "color": "#607D8B",
                "thickness_factor": 1,
                "directed": true
              },
              {
                "id": 6917810502617793000,
                "start": 173,
                "end": 273,
                "properties": {
                  "label": "REFLECTS"
                },
                "label": "REFLECTS",
                "color": "#673AB7",
                "thickness_factor": 1,
                "directed": true
              },
              {
                "id": 1153259054676574500,
                "start": 173,
                "end": 309,
                "properties": {
                  "label": "RAISE"
                },
                "label": "RAISE",
                "color": "#CDDC39",
                "thickness_factor": 1,
                "directed": true
              },
              {
                "id": 1153109521095197000,
                "start": 176,
                "end": 177,
                "properties": {
                  "label": "OWNS"
                },
                "label": "OWNS",
                "color": "#CDDC39",
                "thickness_factor": 1,
                "directed": true
              },
              {
                "id": 1153112819630080300,
                "start": 181,
                "end": 179,
                "properties": {
                  "label": "OFFERS"
                },
                "label": "OFFERS",
                "color": "#CDDC39",
                "thickness_factor": 1,
                "directed": true
              },
              {
                "id": 1153113919141708000,
                "start": 181,
                "end": 100,
                "properties": {
                  "label": "RESPECTS"
                },
                "label": "RESPECTS",
                "color": "#9E9E9E",
                "thickness_factor": 1,
                "directed": true
              },
              {
                "id": 1153115018653335800,
                "start": 181,
                "end": 182,
                "properties": {
                  "label": "COMMITS_TO"
                },
                "label": "COMMITS_TO",
                "color": "#9C27B0",
                "thickness_factor": 1,
                "directed": true
              },
              {
                "id": 1153172193257980200,
                "start": 181,
                "end": 305,
                "properties": {
                  "label": "USED"
                },
                "label": "USED",
                "color": "#2196F3",
                "thickness_factor": 1,
                "directed": true
              },
              {
                "id": 1153119416699847000,
                "start": 184,
                "end": 187,
                "properties": {
                  "label": "SITUATED_NEAR"
                },
                "label": "SITUATED_NEAR",
                "color": "#4CAF50",
                "thickness_factor": 1,
                "directed": true
              },
              {
                "id": 1153126013769613600,
                "start": 184,
                "end": 186,
                "properties": {
                  "label": "LOCATED_IN"
                },
                "label": "LOCATED_IN",
                "color": "#673AB7",
                "thickness_factor": 1,
                "directed": true
              },
              {
                "id": 1153120516211474700,
                "start": 192,
                "end": 130,
                "properties": {
                  "label": "OWNER"
                },
                "label": "OWNER",
                "color": "#F44336",
                "thickness_factor": 1,
                "directed": true
              },
              {
                "id": 1153121615723102500,
                "start": 192,
                "end": 189,
                "properties": {
                  "label": "FEATURES"
                },
                "label": "FEATURES",
                "color": "#9E9E9E",
                "thickness_factor": 1,
                "directed": true
              },
              {
                "id": 1155373415536787700,
                "start": 192,
                "end": 190,
                "properties": {
                  "label": "FEATURES"
                },
                "label": "FEATURES",
                "color": "#9E9E9E",
                "thickness_factor": 1,
                "directed": true
              },
              {
                "id": 1157625215350473000,
                "start": 192,
                "end": 191,
                "properties": {
                  "label": "FEATURES"
                },
                "label": "FEATURES",
                "color": "#9E9E9E",
                "thickness_factor": 1,
                "directed": true
              },
              {
                "id": 1153133710351008000,
                "start": 192,
                "end": 227,
                "properties": {
                  "label": "SURROUNDED_BY"
                },
                "label": "SURROUNDED_BY",
                "color": "#607D8B",
                "thickness_factor": 1,
                "directed": true
              },
              {
                "id": 1155385510164693200,
                "start": 192,
                "end": 228,
                "properties": {
                  "label": "SURROUNDED_BY"
                },
                "label": "SURROUNDED_BY",
                "color": "#607D8B",
                "thickness_factor": 1,
                "directed": true
              },
              {
                "id": 1153122715234730200,
                "start": 194,
                "end": 184,
                "properties": {
                  "label": "DESTINATION"
                },
                "label": "DESTINATION",
                "color": "#673AB7",
                "thickness_factor": 1,
                "directed": true
              },
              {
                "id": 1153126013769613600,
                "start": 196,
                "end": 199,
                "properties": {
                  "label": "LOCATED_IN"
                },
                "label": "LOCATED_IN",
                "color": "#673AB7",
                "thickness_factor": 1,
                "directed": true
              },
              {
                "id": 1155377813583298800,
                "start": 196,
                "end": 213,
                "properties": {
                  "label": "LOCATED_IN"
                },
                "label": "LOCATED_IN",
                "color": "#673AB7",
                "thickness_factor": 1,
                "directed": true
              },
              {
                "id": 1153127113281241300,
                "start": 196,
                "end": 200,
                "properties": {
                  "label": "SERVES"
                },
                "label": "SERVES",
                "color": "#CDDC39",
                "thickness_factor": 1,
                "directed": true
              },
              {
                "id": 1153128212792869000,
                "start": 196,
                "end": 149,
                "properties": {
                  "label": "FOCUSES_ON"
                },
                "label": "FOCUSES_ON",
                "color": "#9E9E9E",
                "thickness_factor": 1,
                "directed": true
              },
              {
                "id": 1153109521095197000,
                "start": 197,
                "end": 196,
                "properties": {
                  "label": "OWNS"
                },
                "label": "OWNS",
                "color": "#CDDC39",
                "thickness_factor": 1,
                "directed": true
              },
              {
                "id": 6917736835338732000,
                "start": 202,
                "end": 210,
                "properties": {
                  "label": "ENSURES"
                },
                "label": "ENSURES",
                "color": "#9C27B0",
                "thickness_factor": 1,
                "directed": true
              },
              {
                "id": 1153131511327752400,
                "start": 212,
                "end": 196,
                "properties": {
                  "label": "CLASSIC"
                },
                "label": "CLASSIC",
                "color": "#2196F3",
                "thickness_factor": 1,
                "directed": true
              },
              {
                "id": 1153126013769613600,
                "start": 215,
                "end": 218,
                "properties": {
                  "label": "LOCATED_IN"
                },
                "label": "LOCATED_IN",
                "color": "#673AB7",
                "thickness_factor": 1,
                "directed": true
              },
              {
                "id": 1153137008885891300,
                "start": 215,
                "end": 231,
                "properties": {
                  "label": "USES"
                },
                "label": "USES",
                "color": "#4CAF50",
                "thickness_factor": 1,
                "directed": true
              },
              {
                "id": 1153138108397519000,
                "start": 215,
                "end": 230,
                "properties": {
                  "label": "FAVORITE"
                },
                "label": "FAVORITE",
                "color": "#F44336",
                "thickness_factor": 1,
                "directed": true
              },
              {
                "id": 1153109521095197000,
                "start": 216,
                "end": 215,
                "properties": {
                  "label": "OWNS"
                },
                "label": "OWNS",
                "color": "#CDDC39",
                "thickness_factor": 1,
                "directed": true
              },
              {
                "id": 1153111720118452500,
                "start": 220,
                "end": 221,
                "properties": {
                  "label": "SHOWCASES"
                },
                "label": "SHOWCASES",
                "color": "#673AB7",
                "thickness_factor": 1,
                "directed": true
              },
              {
                "id": 1153096326955663600,
                "start": 221,
                "end": 222,
                "properties": {
                  "label": "INCLUDES"
                },
                "label": "INCLUDES",
                "color": "#607D8B",
                "thickness_factor": 1,
                "directed": true
              },
              {
                "id": 1155348126769348900,
                "start": 221,
                "end": 223,
                "properties": {
                  "label": "INCLUDES"
                },
                "label": "INCLUDES",
                "color": "#607D8B",
                "thickness_factor": 1,
                "directed": true
              },
              {
                "id": 1153221671281230000,
                "start": 224,
                "end": 145,
                "properties": {
                  "label": "LEGENDARY_FOR"
                },
                "label": "LEGENDARY_FOR",
                "color": "#607D8B",
                "thickness_factor": 1,
                "directed": true
              },
              {
                "id": 1153221671281230000,
                "start": 225,
                "end": 145,
                "properties": {
                  "label": "LEGENDARY_FOR"
                },
                "label": "LEGENDARY_FOR",
                "color": "#607D8B",
                "thickness_factor": 1,
                "directed": true
              },
              {
                "id": 1153109521095197000,
                "start": 234,
                "end": 233,
                "properties": {
                  "label": "OWNS"
                },
                "label": "OWNS",
                "color": "#CDDC39",
                "thickness_factor": 1,
                "directed": true
              },
              {
                "id": 1155377813583298800,
                "start": 236,
                "end": 136,
                "properties": {
                  "label": "LOCATED_IN"
                },
                "label": "LOCATED_IN",
                "color": "#673AB7",
                "thickness_factor": 1,
                "directed": true
              },
              {
                "id": 1153126013769613600,
                "start": 236,
                "end": 237,
                "properties": {
                  "label": "LOCATED_IN"
                },
                "label": "LOCATED_IN",
                "color": "#673AB7",
                "thickness_factor": 1,
                "directed": true
              },
              {
                "id": 1157629613396984000,
                "start": 236,
                "end": 245,
                "properties": {
                  "label": "LOCATED_IN"
                },
                "label": "LOCATED_IN",
                "color": "#673AB7",
                "thickness_factor": 1,
                "directed": true
              },
              {
                "id": 1153127113281241300,
                "start": 236,
                "end": 179,
                "properties": {
                  "label": "SERVES"
                },
                "label": "SERVES",
                "color": "#CDDC39",
                "thickness_factor": 1,
                "directed": true
              },
              {
                "id": 1153142506444030200,
                "start": 236,
                "end": 243,
                "properties": {
                  "label": "ATTRACTS"
                },
                "label": "ATTRACTS",
                "color": "#673AB7",
                "thickness_factor": 1,
                "directed": true
              },
              {
                "id": 1155394306257715500,
                "start": 236,
                "end": 244,
                "properties": {
                  "label": "ATTRACTS"
                },
                "label": "ATTRACTS",
                "color": "#673AB7",
                "thickness_factor": 1,
                "directed": true
              },
              {
                "id": 1153053446002180400,
                "start": 247,
                "end": 248,
                "properties": {
                  "label": "HAS"
                },
                "label": "HAS",
                "color": "#9C27B0",
                "thickness_factor": 1,
                "directed": true
              },
              {
                "id": 1153143605955658000,
                "start": 248,
                "end": 249,
                "properties": {
                  "label": "DESCRIBED_BY"
                },
                "label": "DESCRIBED_BY",
                "color": "#CDDC39",
                "thickness_factor": 1,
                "directed": true
              },
              {
                "id": 1153109521095197000,
                "start": 252,
                "end": 251,
                "properties": {
                  "label": "OWNS"
                },
                "label": "OWNS",
                "color": "#CDDC39",
                "thickness_factor": 1,
                "directed": true
              },
              {
                "id": 1153053446002180400,
                "start": 255,
                "end": 263,
                "properties": {
                  "label": "HAS"
                },
                "label": "HAS",
                "color": "#9C27B0",
                "thickness_factor": 1,
                "directed": true
              },
              {
                "id": 1155305245815865600,
                "start": 255,
                "end": 265,
                "properties": {
                  "label": "HAS"
                },
                "label": "HAS",
                "color": "#9C27B0",
                "thickness_factor": 1,
                "directed": true
              },
              {
                "id": 1153112819630080300,
                "start": 255,
                "end": 259,
                "properties": {
                  "label": "OFFERS"
                },
                "label": "OFFERS",
                "color": "#CDDC39",
                "thickness_factor": 1,
                "directed": true
              },
              {
                "id": 1155364619443765500,
                "start": 255,
                "end": 260,
                "properties": {
                  "label": "OFFERS"
                },
                "label": "OFFERS",
                "color": "#CDDC39",
                "thickness_factor": 1,
                "directed": true
              },
              {
                "id": 1157616419257450800,
                "start": 255,
                "end": 261,
                "properties": {
                  "label": "OFFERS"
                },
                "label": "OFFERS",
                "color": "#CDDC39",
                "thickness_factor": 1,
                "directed": true
              },
              {
                "id": 1159868219071136000,
                "start": 255,
                "end": 262,
                "properties": {
                  "label": "OFFERS"
                },
                "label": "OFFERS",
                "color": "#CDDC39",
                "thickness_factor": 1,
                "directed": true
              },
              {
                "id": 1153148004002169000,
                "start": 255,
                "end": 258,
                "properties": {
                  "label": "CATERS_TO"
                },
                "label": "CATERS_TO",
                "color": "#9E9E9E",
                "thickness_factor": 1,
                "directed": true
              },
              {
                "id": 6917757726059659000,
                "start": 255,
                "end": 112,
                "properties": {
                  "label": "HUB_FOR"
                },
                "label": "HUB_FOR",
                "color": "#9C27B0",
                "thickness_factor": 1,
                "directed": true
              },
              {
                "id": 1153150203025424600,
                "start": 255,
                "end": 268,
                "properties": {
                  "label": "HUB_FOR"
                },
                "label": "HUB_FOR",
                "color": "#9C27B0",
                "thickness_factor": 1,
                "directed": true
              },
              {
                "id": 6917757726059659000,
                "start": 255,
                "end": 270,
                "properties": {
                  "label": "HUB_FOR"
                },
                "label": "HUB_FOR",
                "color": "#9C27B0",
                "thickness_factor": 1,
                "directed": true
              },
              {
                "id": 6917757726059659000,
                "start": 255,
                "end": 271,
                "properties": {
                  "label": "HUB_FOR"
                },
                "label": "HUB_FOR",
                "color": "#9C27B0",
                "thickness_factor": 1,
                "directed": true
              },
              {
                "id": 1153112819630080300,
                "start": 265,
                "end": 266,
                "properties": {
                  "label": "OFFERS"
                },
                "label": "OFFERS",
                "color": "#CDDC39",
                "thickness_factor": 1,
                "directed": true
              },
              {
                "id": 1155364619443765500,
                "start": 265,
                "end": 267,
                "properties": {
                  "label": "OFFERS"
                },
                "label": "OFFERS",
                "color": "#CDDC39",
                "thickness_factor": 1,
                "directed": true
              },
              {
                "id": 1153261253699830000,
                "start": 268,
                "end": 270,
                "properties": {
                  "label": "CREATE"
                },
                "label": "CREATE",
                "color": "#2196F3",
                "thickness_factor": 1,
                "directed": true
              },
              {
                "id": 1153255756141691100,
                "start": 276,
                "end": 174,
                "properties": {
                  "label": "GIVE_BACK_TO"
                },
                "label": "GIVE_BACK_TO",
                "color": "#4CAF50",
                "thickness_factor": 1,
                "directed": true
              },
              {
                "id": 1153256855653319000,
                "start": 276,
                "end": 278,
                "properties": {
                  "label": "PROMOTE"
                },
                "label": "PROMOTE",
                "color": "#F44336",
                "thickness_factor": 1,
                "directed": true
              },
              {
                "id": 1153097426467291400,
                "start": 280,
                "end": 281,
                "properties": {
                  "label": "RELATED_TO"
                },
                "label": "RELATED_TO",
                "color": "#607D8B",
                "thickness_factor": 1,
                "directed": true
              },
              {
                "id": 1153096326955663600,
                "start": 283,
                "end": 290,
                "properties": {
                  "label": "INCLUDES"
                },
                "label": "INCLUDES",
                "color": "#607D8B",
                "thickness_factor": 1,
                "directed": true
              },
              {
                "id": 1155348126769348900,
                "start": 283,
                "end": 291,
                "properties": {
                  "label": "INCLUDES"
                },
                "label": "INCLUDES",
                "color": "#607D8B",
                "thickness_factor": 1,
                "directed": true
              },
              {
                "id": 1153224969816113400,
                "start": 283,
                "end": 186,
                "properties": {
                  "label": "HELD_IN"
                },
                "label": "HELD_IN",
                "color": "#673AB7",
                "thickness_factor": 1,
                "directed": true
              },
              {
                "id": 1153226069327741200,
                "start": 283,
                "end": 292,
                "properties": {
                  "label": "FOR"
                },
                "label": "FOR",
                "color": "#CDDC39",
                "thickness_factor": 1,
                "directed": true
              },
              {
                "id": 1153163397164958000,
                "start": 284,
                "end": 285,
                "properties": {
                  "label": "FOCUSED_ON"
                },
                "label": "FOCUSED_ON",
                "color": "#2196F3",
                "thickness_factor": 1,
                "directed": true
              },
              {
                "id": 1155415196978643200,
                "start": 284,
                "end": 286,
                "properties": {
                  "label": "FOCUSED_ON"
                },
                "label": "FOCUSED_ON",
                "color": "#2196F3",
                "thickness_factor": 1,
                "directed": true
              },
              {
                "id": 1153166695699841300,
                "start": 298,
                "end": 299,
                "properties": {
                  "label": "ADVOCATE_FOR"
                },
                "label": "ADVOCATE_FOR",
                "color": "#9E9E9E",
                "thickness_factor": 1,
                "directed": true
              },
              {
                "id": 1153187586420769000,
                "start": 298,
                "end": 332,
                "properties": {
                  "label": "ORGANIZED"
                },
                "label": "ORGANIZED",
                "color": "#9C27B0",
                "thickness_factor": 1,
                "directed": true
              },
              {
                "id": 1153189785444024600,
                "start": 298,
                "end": 302,
                "properties": {
                  "label": "OWNED"
                },
                "label": "OWNED",
                "color": "#2196F3",
                "thickness_factor": 1,
                "directed": true
              },
              {
                "id": 1153168894723096800,
                "start": 299,
                "end": 300,
                "properties": {
                  "label": "COLLABORATE_WITH"
                },
                "label": "COLLABORATE_WITH",
                "color": "#4CAF50",
                "thickness_factor": 1,
                "directed": true
              },
              {
                "id": 1155420694536782000,
                "start": 299,
                "end": 301,
                "properties": {
                  "label": "COLLABORATE_WITH"
                },
                "label": "COLLABORATE_WITH",
                "color": "#4CAF50",
                "thickness_factor": 1,
                "directed": true
              },
              {
                "id": 1153169994234724600,
                "start": 299,
                "end": 302,
                "properties": {
                  "label": "IMPLEMENTED_IN"
                },
                "label": "IMPLEMENTED_IN",
                "color": "#F44336",
                "thickness_factor": 1,
                "directed": true
              },
              {
                "id": 1153171093746352400,
                "start": 304,
                "end": 181,
                "properties": {
                  "label": "ENSURED"
                },
                "label": "ENSURED",
                "color": "#607D8B",
                "thickness_factor": 1,
                "directed": true
              },
              {
                "id": 1153173292769608000,
                "start": 304,
                "end": 306,
                "properties": {
                  "label": "PROMOTED"
                },
                "label": "PROMOTED",
                "color": "#673AB7",
                "thickness_factor": 1,
                "directed": true
              },
              {
                "id": 1153174392281235700,
                "start": 304,
                "end": 307,
                "properties": {
                  "label": "SUPPORTED"
                },
                "label": "SUPPORTED",
                "color": "#CDDC39",
                "thickness_factor": 1,
                "directed": true
              },
              {
                "id": 1153177690816119000,
                "start": 311,
                "end": 313,
                "properties": {
                  "label": "HAS_BENEFIT"
                },
                "label": "HAS_BENEFIT",
                "color": "#9E9E9E",
                "thickness_factor": 1,
                "directed": true
              },
              {
                "id": 1155429490629804300,
                "start": 311,
                "end": 314,
                "properties": {
                  "label": "HAS_BENEFIT"
                },
                "label": "HAS_BENEFIT",
                "color": "#9E9E9E",
                "thickness_factor": 1,
                "directed": true
              },
              {
                "id": 1157681290443489500,
                "start": 311,
                "end": 315,
                "properties": {
                  "label": "HAS_BENEFIT"
                },
                "label": "HAS_BENEFIT",
                "color": "#9E9E9E",
                "thickness_factor": 1,
                "directed": true
              },
              {
                "id": 1153177690816119000,
                "start": 312,
                "end": 313,
                "properties": {
                  "label": "HAS_BENEFIT"
                },
                "label": "HAS_BENEFIT",
                "color": "#9E9E9E",
                "thickness_factor": 1,
                "directed": true
              },
              {
                "id": 1155429490629804300,
                "start": 312,
                "end": 314,
                "properties": {
                  "label": "HAS_BENEFIT"
                },
                "label": "HAS_BENEFIT",
                "color": "#9E9E9E",
                "thickness_factor": 1,
                "directed": true
              },
              {
                "id": 1157681290443489500,
                "start": 312,
                "end": 315,
                "properties": {
                  "label": "HAS_BENEFIT"
                },
                "label": "HAS_BENEFIT",
                "color": "#9E9E9E",
                "thickness_factor": 1,
                "directed": true
              },
              {
                "id": 1153096326955663600,
                "start": 317,
                "end": 318,
                "properties": {
                  "label": "INCLUDES"
                },
                "label": "INCLUDES",
                "color": "#607D8B",
                "thickness_factor": 1,
                "directed": true
              },
              {
                "id": 1155348126769348900,
                "start": 317,
                "end": 319,
                "properties": {
                  "label": "INCLUDES"
                },
                "label": "INCLUDES",
                "color": "#607D8B",
                "thickness_factor": 1,
                "directed": true
              },
              {
                "id": 1153184287885885700,
                "start": 319,
                "end": 324,
                "properties": {
                  "label": "COLLECTED_FROM"
                },
                "label": "COLLECTED_FROM",
                "color": "#9C27B0",
                "thickness_factor": 1,
                "directed": true
              },
              {
                "id": 1155436087699571000,
                "start": 319,
                "end": 325,
                "properties": {
                  "label": "COLLECTED_FROM"
                },
                "label": "COLLECTED_FROM",
                "color": "#9C27B0",
                "thickness_factor": 1,
                "directed": true
              },
              {
                "id": 1153231566885880000,
                "start": 319,
                "end": 322,
                "properties": {
                  "label": "BENEFITED"
                },
                "label": "BENEFITED",
                "color": "#2196F3",
                "thickness_factor": 1,
                "directed": true
              },
              {
                "id": 1153182088862630100,
                "start": 322,
                "end": 323,
                "properties": {
                  "label": "ACCESS_TO"
                },
                "label": "ACCESS_TO",
                "color": "#4CAF50",
                "thickness_factor": 1,
                "directed": true
              },
              {
                "id": 1153260154188202200,
                "start": 326,
                "end": 322,
                "properties": {
                  "label": "PARTICIPATED_IN"
                },
                "label": "PARTICIPATED_IN",
                "color": "#F44336",
                "thickness_factor": 1,
                "directed": true
              },
              {
                "id": 1153186486909141200,
                "start": 328,
                "end": 330,
                "properties": {
                  "label": "CONTRIBUTE"
                },
                "label": "CONTRIBUTE",
                "color": "#607D8B",
                "thickness_factor": 1,
                "directed": true
              },
              {
                "id": 1153186486909141200,
                "start": 329,
                "end": 330,
                "properties": {
                  "label": "CONTRIBUTE"
                },
                "label": "CONTRIBUTE",
                "color": "#607D8B",
                "thickness_factor": 1,
                "directed": true
              },
              {
                "id": 1153188685932396800,
                "start": 332,
                "end": 334,
                "properties": {
                  "label": "SHOWCASED"
                },
                "label": "SHOWCASED",
                "color": "#673AB7",
                "thickness_factor": 1,
                "directed": true
              },
              {
                "id": 1155440485746082000,
                "start": 332,
                "end": 335,
                "properties": {
                  "label": "SHOWCASED"
                },
                "label": "SHOWCASED",
                "color": "#673AB7",
                "thickness_factor": 1,
                "directed": true
              },
              {
                "id": 1153121615723102500,
                "start": 338,
                "end": 339,
                "properties": {
                  "label": "FEATURES"
                },
                "label": "FEATURES",
                "color": "#9E9E9E",
                "thickness_factor": 1,
                "directed": true
              },
              {
                "id": 1155373415536787700,
                "start": 338,
                "end": 340,
                "properties": {
                  "label": "FEATURES"
                },
                "label": "FEATURES",
                "color": "#9E9E9E",
                "thickness_factor": 1,
                "directed": true
              },
              {
                "id": 1157625215350473000,
                "start": 338,
                "end": 341,
                "properties": {
                  "label": "FEATURES"
                },
                "label": "FEATURES",
                "color": "#9E9E9E",
                "thickness_factor": 1,
                "directed": true
              },
              {
                "id": 1153190884955652400,
                "start": 338,
                "end": 112,
                "properties": {
                  "label": "CELEBRATION_OF"
                },
                "label": "CELEBRATION_OF",
                "color": "#CDDC39",
                "thickness_factor": 1,
                "directed": true
              },
              {
                "id": 1153191984467280100,
                "start": 338,
                "end": 278,
                "properties": {
                  "label": "PLATFORM_FOR"
                },
                "label": "PLATFORM_FOR",
                "color": "#9E9E9E",
                "thickness_factor": 1,
                "directed": true
              },
              {
                "id": 1153193083978908000,
                "start": 343,
                "end": 344,
                "properties": {
                  "label": "BRING_TOGETHER"
                },
                "label": "BRING_TOGETHER",
                "color": "#9C27B0",
                "thickness_factor": 1,
                "directed": true
              }
            ],
            "_graph_layout": {},
            "_highlight": [],
            "_license": {},
            "_model_module": "yfiles-jupyter-graphs",
            "_model_module_version": "^1.8.1",
            "_model_name": "GraphModel",
            "_neighborhood": {},
            "_nodes": [
              {
                "id": 98,
                "properties": {
                  "id": "Amico’S Family",
                  "label": "__Entity__:Family"
                },
                "color": "#2196F3",
                "styles": {},
                "label": "Amico’S Family",
                "scale_factor": 1,
                "type": "#2196F3",
                "size": [
                  55,
                  55
                ],
                "position": [
                  0,
                  0
                ]
              },
              {
                "id": 99,
                "properties": {
                  "id": "Love",
                  "label": "__Entity__:Concept:Emotion"
                },
                "color": "#4CAF50",
                "styles": {},
                "label": "Love",
                "scale_factor": 1,
                "type": "#4CAF50",
                "size": [
                  55,
                  55
                ],
                "position": [
                  0,
                  0
                ]
              },
              {
                "id": 100,
                "properties": {
                  "id": "Tradition",
                  "label": "__Entity__:Concept"
                },
                "color": "#F44336",
                "styles": {},
                "label": "Tradition",
                "scale_factor": 1,
                "type": "#F44336",
                "size": [
                  55,
                  55
                ],
                "position": [
                  0,
                  0
                ]
              },
              {
                "id": 103,
                "properties": {
                  "id": "Caruso Family",
                  "label": "__Entity__:Family"
                },
                "color": "#2196F3",
                "styles": {},
                "label": "Caruso Family",
                "scale_factor": 1,
                "type": "#2196F3",
                "size": [
                  55,
                  55
                ],
                "position": [
                  0,
                  0
                ]
              },
              {
                "id": 102,
                "properties": {
                  "id": "Santa Caterina",
                  "label": "Place:__Entity__:Village"
                },
                "color": "#607D8B",
                "styles": {},
                "label": "Santa Caterina",
                "scale_factor": 1,
                "type": "#607D8B",
                "size": [
                  55,
                  55
                ],
                "position": [
                  0,
                  0
                ]
              },
              {
                "id": 104,
                "properties": {
                  "id": "Sicily",
                  "label": "Place:__Entity__"
                },
                "color": "#673AB7",
                "styles": {},
                "label": "Sicily",
                "scale_factor": 1,
                "type": "#673AB7",
                "size": [
                  55,
                  55
                ],
                "position": [
                  0,
                  0
                ]
              },
              {
                "id": 357,
                "properties": {
                  "id": "Culinary World",
                  "label": "__Entity__:Concept"
                },
                "color": "#F44336",
                "styles": {},
                "label": "Culinary World",
                "scale_factor": 1,
                "type": "#F44336",
                "size": [
                  55,
                  55
                ],
                "position": [
                  0,
                  0
                ]
              },
              {
                "id": 177,
                "properties": {
                  "id": "Culinary Empire",
                  "label": "__Entity__:Concept:Empire"
                },
                "color": "#CDDC39",
                "styles": {},
                "label": "Culinary Empire",
                "scale_factor": 1,
                "type": "#CDDC39",
                "size": [
                  55,
                  55
                ],
                "position": [
                  0,
                  0
                ]
              },
              {
                "id": 179,
                "properties": {
                  "id": "Italian Cuisine",
                  "label": "__Entity__:Cuisine"
                },
                "color": "#9E9E9E",
                "styles": {},
                "label": "Italian Cuisine",
                "scale_factor": 1,
                "type": "#9E9E9E",
                "size": [
                  55,
                  55
                ],
                "position": [
                  0,
                  0
                ]
              },
              {
                "id": 112,
                "properties": {
                  "id": "Food",
                  "label": "__Entity__:Concept"
                },
                "color": "#F44336",
                "styles": {},
                "label": "Food",
                "scale_factor": 1,
                "type": "#F44336",
                "size": [
                  55,
                  55
                ],
                "position": [
                  0,
                  0
                ]
              },
              {
                "id": 274,
                "properties": {
                  "id": "Social Causes",
                  "label": "__Entity__:Concept"
                },
                "color": "#F44336",
                "styles": {},
                "label": "Social Causes",
                "scale_factor": 1,
                "type": "#F44336",
                "size": [
                  55,
                  55
                ],
                "position": [
                  0,
                  0
                ]
              },
              {
                "id": 276,
                "properties": {
                  "id": "Initiatives",
                  "label": "__Entity__:Concept"
                },
                "color": "#F44336",
                "styles": {},
                "label": "Initiatives",
                "scale_factor": 1,
                "type": "#F44336",
                "size": [
                  55,
                  55
                ],
                "position": [
                  0,
                  0
                ]
              },
              {
                "id": 270,
                "properties": {
                  "id": "Art",
                  "label": "__Entity__:Concept"
                },
                "color": "#F44336",
                "styles": {},
                "label": "Art",
                "scale_factor": 1,
                "type": "#F44336",
                "size": [
                  55,
                  55
                ],
                "position": [
                  0,
                  0
                ]
              },
              {
                "id": 360,
                "properties": {
                  "id": "Innovation",
                  "label": "__Entity__:Concept"
                },
                "color": "#F44336",
                "styles": {},
                "label": "Innovation",
                "scale_factor": 1,
                "type": "#F44336",
                "size": [
                  55,
                  55
                ],
                "position": [
                  0,
                  0
                ]
              },
              {
                "id": 361,
                "properties": {
                  "id": "Joy",
                  "label": "__Entity__:Emotion"
                },
                "color": "#9C27B0",
                "styles": {},
                "label": "Joy",
                "scale_factor": 1,
                "type": "#9C27B0",
                "size": [
                  55,
                  55
                ],
                "position": [
                  0,
                  0
                ]
              },
              {
                "id": 237,
                "properties": {
                  "id": "New York City",
                  "label": "__Entity__:City:Location"
                },
                "color": "#2196F3",
                "styles": {},
                "label": "New York City",
                "scale_factor": 1,
                "type": "#2196F3",
                "size": [
                  55,
                  55
                ],
                "position": [
                  0,
                  0
                ]
              },
              {
                "id": 106,
                "properties": {
                  "id": "Culinary Heritage",
                  "label": "__Entity__:Concept"
                },
                "color": "#F44336",
                "styles": {},
                "label": "Culinary Heritage",
                "scale_factor": 1,
                "type": "#F44336",
                "size": [
                  55,
                  55
                ],
                "position": [
                  0,
                  0
                ]
              },
              {
                "id": 108,
                "properties": {
                  "id": "Land",
                  "label": "__Entity__:Concept"
                },
                "color": "#F44336",
                "styles": {},
                "label": "Land",
                "scale_factor": 1,
                "type": "#F44336",
                "size": [
                  55,
                  55
                ],
                "position": [
                  0,
                  0
                ]
              },
              {
                "id": 107,
                "properties": {
                  "id": "Family Member",
                  "label": "__Entity__:Person"
                },
                "color": "#4CAF50",
                "styles": {},
                "label": "Family Member",
                "scale_factor": 1,
                "type": "#4CAF50",
                "size": [
                  55,
                  55
                ],
                "position": [
                  0,
                  0
                ]
              },
              {
                "id": 109,
                "properties": {
                  "id": "Flavors",
                  "label": "__Entity__:Concept"
                },
                "color": "#F44336",
                "styles": {},
                "label": "Flavors",
                "scale_factor": 1,
                "type": "#F44336",
                "size": [
                  55,
                  55
                ],
                "position": [
                  0,
                  0
                ]
              },
              {
                "id": 110,
                "properties": {
                  "id": "Experiences",
                  "label": "__Entity__:Concept"
                },
                "color": "#F44336",
                "styles": {},
                "label": "Experiences",
                "scale_factor": 1,
                "type": "#F44336",
                "size": [
                  55,
                  55
                ],
                "position": [
                  0,
                  0
                ]
              },
              {
                "id": 343,
                "properties": {
                  "id": "People",
                  "label": "__Entity__:Concept"
                },
                "color": "#F44336",
                "styles": {},
                "label": "People",
                "scale_factor": 1,
                "type": "#F44336",
                "size": [
                  55,
                  55
                ],
                "position": [
                  0,
                  0
                ]
              },
              {
                "id": 114,
                "properties": {
                  "id": "Giovanni Caruso",
                  "label": "__Entity__:Person"
                },
                "color": "#4CAF50",
                "styles": {},
                "label": "Giovanni Caruso",
                "scale_factor": 1,
                "type": "#4CAF50",
                "size": [
                  55,
                  55
                ],
                "position": [
                  0,
                  0
                ]
              },
              {
                "id": 116,
                "properties": {
                  "id": "The Founding Generation",
                  "label": "__Entity__:Concept"
                },
                "color": "#F44336",
                "styles": {},
                "label": "The Founding Generation",
                "scale_factor": 1,
                "type": "#F44336",
                "size": [
                  55,
                  55
                ],
                "position": [
                  0,
                  0
                ]
              },
              {
                "id": 115,
                "properties": {
                  "id": "Maria",
                  "label": "__Entity__:Person"
                },
                "color": "#4CAF50",
                "styles": {},
                "label": "Maria",
                "scale_factor": 1,
                "type": "#4CAF50",
                "size": [
                  55,
                  55
                ],
                "position": [
                  0,
                  0
                ]
              },
              {
                "id": 130,
                "properties": {
                  "id": "Antonio",
                  "label": "__Entity__:Person"
                },
                "color": "#4CAF50",
                "styles": {},
                "label": "Antonio",
                "scale_factor": 1,
                "type": "#4CAF50",
                "size": [
                  55,
                  55
                ],
                "position": [
                  0,
                  0
                ]
              },
              {
                "id": 119,
                "properties": {
                  "id": "Giovanni",
                  "label": "__Entity__:Person"
                },
                "color": "#4CAF50",
                "styles": {},
                "label": "Giovanni",
                "scale_factor": 1,
                "type": "#4CAF50",
                "size": [
                  55,
                  55
                ],
                "position": [
                  0,
                  0
                ]
              },
              {
                "id": 123,
                "properties": {
                  "id": "Ancestors",
                  "label": "__Entity__:Person"
                },
                "color": "#4CAF50",
                "styles": {},
                "label": "Ancestors",
                "scale_factor": 1,
                "type": "#4CAF50",
                "size": [
                  55,
                  55
                ],
                "position": [
                  0,
                  0
                ]
              },
              {
                "id": 121,
                "properties": {
                  "id": "Stews",
                  "label": "__Entity__:Food"
                },
                "color": "#F44336",
                "styles": {},
                "label": "Stews",
                "scale_factor": 1,
                "type": "#F44336",
                "size": [
                  55,
                  55
                ],
                "position": [
                  0,
                  0
                ]
              },
              {
                "id": 122,
                "properties": {
                  "id": "Delicate Pastries",
                  "label": "__Entity__:Food"
                },
                "color": "#F44336",
                "styles": {},
                "label": "Delicate Pastries",
                "scale_factor": 1,
                "type": "#F44336",
                "size": [
                  55,
                  55
                ],
                "position": [
                  0,
                  0
                ]
              },
              {
                "id": 124,
                "properties": {
                  "id": "Culinary Experimentation",
                  "label": "__Entity__:Activity"
                },
                "color": "#607D8B",
                "styles": {},
                "label": "Culinary Experimentation",
                "scale_factor": 1,
                "type": "#607D8B",
                "size": [
                  55,
                  55
                ],
                "position": [
                  0,
                  0
                ]
              },
              {
                "id": 125,
                "properties": {
                  "id": "Children",
                  "label": "__Entity__:Person"
                },
                "color": "#4CAF50",
                "styles": {},
                "label": "Children",
                "scale_factor": 1,
                "type": "#4CAF50",
                "size": [
                  55,
                  55
                ],
                "position": [
                  0,
                  0
                ]
              },
              {
                "id": 126,
                "properties": {
                  "id": "Sicilian Kitchen",
                  "label": "Place:__Entity__"
                },
                "color": "#673AB7",
                "styles": {},
                "label": "Sicilian Kitchen",
                "scale_factor": 1,
                "type": "#673AB7",
                "size": [
                  55,
                  55
                ],
                "position": [
                  0,
                  0
                ]
              },
              {
                "id": 128,
                "properties": {
                  "id": "Antonio Caruso",
                  "label": "__Entity__:Person"
                },
                "color": "#4CAF50",
                "styles": {},
                "label": "Antonio Caruso",
                "scale_factor": 1,
                "type": "#4CAF50",
                "size": [
                  55,
                  55
                ],
                "position": [
                  0,
                  0
                ]
              },
              {
                "id": 184,
                "properties": {
                  "id": "La Dolce Vita",
                  "label": "Place:__Entity__:Restaurant"
                },
                "color": "#673AB7",
                "styles": {},
                "label": "La Dolce Vita",
                "scale_factor": 1,
                "type": "#673AB7",
                "size": [
                  55,
                  55
                ],
                "position": [
                  0,
                  0
                ]
              },
              {
                "id": 132,
                "properties": {
                  "id": "Village",
                  "label": "Place:__Entity__"
                },
                "color": "#673AB7",
                "styles": {},
                "label": "Village",
                "scale_factor": 1,
                "type": "#673AB7",
                "size": [
                  55,
                  55
                ],
                "position": [
                  0,
                  0
                ]
              },
              {
                "id": 133,
                "properties": {
                  "id": "Island",
                  "label": "Place:__Entity__"
                },
                "color": "#673AB7",
                "styles": {},
                "label": "Island",
                "scale_factor": 1,
                "type": "#673AB7",
                "size": [
                  55,
                  55
                ],
                "position": [
                  0,
                  0
                ]
              },
              {
                "id": 135,
                "properties": {
                  "id": "Sicilian Flavors",
                  "label": "__Entity__:Concept"
                },
                "color": "#F44336",
                "styles": {},
                "label": "Sicilian Flavors",
                "scale_factor": 1,
                "type": "#F44336",
                "size": [
                  55,
                  55
                ],
                "position": [
                  0,
                  0
                ]
              },
              {
                "id": 136,
                "properties": {
                  "id": "Italy",
                  "label": "Place:__Entity__:Location"
                },
                "color": "#CDDC39",
                "styles": {},
                "label": "Italy",
                "scale_factor": 1,
                "type": "#CDDC39",
                "size": [
                  55,
                  55
                ],
                "position": [
                  0,
                  0
                ]
              },
              {
                "id": 137,
                "properties": {
                  "id": "Weddings",
                  "label": "Event:__Entity__"
                },
                "color": "#9E9E9E",
                "styles": {},
                "label": "Weddings",
                "scale_factor": 1,
                "type": "#9E9E9E",
                "size": [
                  55,
                  55
                ],
                "position": [
                  0,
                  0
                ]
              },
              {
                "id": 138,
                "properties": {
                  "id": "Grand Feasts",
                  "label": "Event:__Entity__:Concept"
                },
                "color": "#9C27B0",
                "styles": {},
                "label": "Grand Feasts",
                "scale_factor": 1,
                "type": "#9C27B0",
                "size": [
                  55,
                  55
                ],
                "position": [
                  0,
                  0
                ]
              },
              {
                "id": 189,
                "properties": {
                  "id": "Cacio E Pepe",
                  "label": "__Entity__:Dish"
                },
                "color": "#2196F3",
                "styles": {},
                "label": "Cacio E Pepe",
                "scale_factor": 1,
                "type": "#2196F3",
                "size": [
                  55,
                  55
                ],
                "position": [
                  0,
                  0
                ]
              },
              {
                "id": 190,
                "properties": {
                  "id": "Carbonara",
                  "label": "__Entity__:Dish"
                },
                "color": "#2196F3",
                "styles": {},
                "label": "Carbonara",
                "scale_factor": 1,
                "type": "#2196F3",
                "size": [
                  55,
                  55
                ],
                "position": [
                  0,
                  0
                ]
              },
              {
                "id": 191,
                "properties": {
                  "id": "Truffle Risotto With Pecorino Romano",
                  "label": "__Entity__:Dish"
                },
                "color": "#2196F3",
                "styles": {},
                "label": "Truffle Risotto With Pecorino Romano",
                "scale_factor": 1,
                "type": "#2196F3",
                "size": [
                  55,
                  55
                ],
                "position": [
                  0,
                  0
                ]
              },
              {
                "id": 186,
                "properties": {
                  "id": "Rome",
                  "label": "Place:__Entity__:Location"
                },
                "color": "#CDDC39",
                "styles": {},
                "label": "Rome",
                "scale_factor": 1,
                "type": "#CDDC39",
                "size": [
                  55,
                  55
                ],
                "position": [
                  0,
                  0
                ]
              },
              {
                "id": 144,
                "properties": {
                  "id": "Pietro",
                  "label": "__Entity__:Person"
                },
                "color": "#4CAF50",
                "styles": {},
                "label": "Pietro",
                "scale_factor": 1,
                "type": "#4CAF50",
                "size": [
                  55,
                  55
                ],
                "position": [
                  0,
                  0
                ]
              },
              {
                "id": 283,
                "properties": {
                  "id": "Workshops",
                  "label": "Event:__Entity__"
                },
                "color": "#9E9E9E",
                "styles": {},
                "label": "Workshops",
                "scale_factor": 1,
                "type": "#9E9E9E",
                "size": [
                  55,
                  55
                ],
                "position": [
                  0,
                  0
                ]
              },
              {
                "id": 287,
                "properties": {
                  "id": "Innovative Techniques",
                  "label": "__Entity__:Skill"
                },
                "color": "#4CAF50",
                "styles": {},
                "label": "Innovative Techniques",
                "scale_factor": 1,
                "type": "#4CAF50",
                "size": [
                  55,
                  55
                ],
                "position": [
                  0,
                  0
                ]
              },
              {
                "id": 131,
                "properties": {
                  "id": "Eldest Son",
                  "label": "__Entity__:Person"
                },
                "color": "#4CAF50",
                "styles": {},
                "label": "Eldest Son",
                "scale_factor": 1,
                "type": "#4CAF50",
                "size": [
                  55,
                  55
                ],
                "position": [
                  0,
                  0
                ]
              },
              {
                "id": 140,
                "properties": {
                  "id": "Dishes",
                  "label": "__Entity__:Concept"
                },
                "color": "#F44336",
                "styles": {},
                "label": "Dishes",
                "scale_factor": 1,
                "type": "#F44336",
                "size": [
                  55,
                  55
                ],
                "position": [
                  0,
                  0
                ]
              },
              {
                "id": 141,
                "properties": {
                  "id": "Sicilian And Tuscan Flavors",
                  "label": "__Entity__:Concept"
                },
                "color": "#F44336",
                "styles": {},
                "label": "Sicilian And Tuscan Flavors",
                "scale_factor": 1,
                "type": "#F44336",
                "size": [
                  55,
                  55
                ],
                "position": [
                  0,
                  0
                ]
              },
              {
                "id": 142,
                "properties": {
                  "id": "Amico'S Signature Style",
                  "label": "__Entity__:Concept"
                },
                "color": "#F44336",
                "styles": {},
                "label": "Amico'S Signature Style",
                "scale_factor": 1,
                "type": "#F44336",
                "size": [
                  55,
                  55
                ],
                "position": [
                  0,
                  0
                ]
              },
              {
                "id": 155,
                "properties": {
                  "id": "Amico",
                  "label": "__Entity__:Person"
                },
                "color": "#4CAF50",
                "styles": {},
                "label": "Amico",
                "scale_factor": 1,
                "type": "#4CAF50",
                "size": [
                  55,
                  55
                ],
                "position": [
                  0,
                  0
                ]
              },
              {
                "id": 145,
                "properties": {
                  "id": "Sofia",
                  "label": "__Entity__:Person"
                },
                "color": "#4CAF50",
                "styles": {},
                "label": "Sofia",
                "scale_factor": 1,
                "type": "#4CAF50",
                "size": [
                  55,
                  55
                ],
                "position": [
                  0,
                  0
                ]
              },
              {
                "id": 147,
                "properties": {
                  "id": "Sea",
                  "label": "__Entity__:Concept"
                },
                "color": "#F44336",
                "styles": {},
                "label": "Sea",
                "scale_factor": 1,
                "type": "#F44336",
                "size": [
                  55,
                  55
                ],
                "position": [
                  0,
                  0
                ]
              },
              {
                "id": 148,
                "properties": {
                  "id": "Kitchen",
                  "label": "__Entity__:Concept"
                },
                "color": "#F44336",
                "styles": {},
                "label": "Kitchen",
                "scale_factor": 1,
                "type": "#F44336",
                "size": [
                  55,
                  55
                ],
                "position": [
                  0,
                  0
                ]
              },
              {
                "id": 149,
                "properties": {
                  "id": "Seafood",
                  "label": "__Entity__:Food"
                },
                "color": "#F44336",
                "styles": {},
                "label": "Seafood",
                "scale_factor": 1,
                "type": "#F44336",
                "size": [
                  55,
                  55
                ],
                "position": [
                  0,
                  0
                ]
              },
              {
                "id": 150,
                "properties": {
                  "id": "Trattoria",
                  "label": "Place:__Entity__:Business"
                },
                "color": "#F44336",
                "styles": {},
                "label": "Trattoria",
                "scale_factor": 1,
                "type": "#F44336",
                "size": [
                  55,
                  55
                ],
                "position": [
                  0,
                  0
                ]
              },
              {
                "id": 158,
                "properties": {
                  "id": "Values Of Hard Work",
                  "label": "__Entity__:Value"
                },
                "color": "#607D8B",
                "styles": {},
                "label": "Values Of Hard Work",
                "scale_factor": 1,
                "type": "#607D8B",
                "size": [
                  55,
                  55
                ],
                "position": [
                  0,
                  0
                ]
              },
              {
                "id": 159,
                "properties": {
                  "id": "Respect For Tradition",
                  "label": "__Entity__:Value"
                },
                "color": "#607D8B",
                "styles": {},
                "label": "Respect For Tradition",
                "scale_factor": 1,
                "type": "#607D8B",
                "size": [
                  55,
                  55
                ],
                "position": [
                  0,
                  0
                ]
              },
              {
                "id": 160,
                "properties": {
                  "id": "Joy Of Feeding",
                  "label": "__Entity__:Value"
                },
                "color": "#607D8B",
                "styles": {},
                "label": "Joy Of Feeding",
                "scale_factor": 1,
                "type": "#607D8B",
                "size": [
                  55,
                  55
                ],
                "position": [
                  0,
                  0
                ]
              },
              {
                "id": 196,
                "properties": {
                  "id": "Il Mare Nostrum",
                  "label": "Place:__Entity__:Restaurant"
                },
                "color": "#673AB7",
                "styles": {},
                "label": "Il Mare Nostrum",
                "scale_factor": 1,
                "type": "#673AB7",
                "size": [
                  55,
                  55
                ],
                "position": [
                  0,
                  0
                ]
              },
              {
                "id": 284,
                "properties": {
                  "id": "Classes",
                  "label": "Event:__Entity__"
                },
                "color": "#9E9E9E",
                "styles": {},
                "label": "Classes",
                "scale_factor": 1,
                "type": "#9E9E9E",
                "size": [
                  55,
                  55
                ],
                "position": [
                  0,
                  0
                ]
              },
              {
                "id": 203,
                "properties": {
                  "id": "Baking_Skills",
                  "label": "__Entity__:Skill"
                },
                "color": "#4CAF50",
                "styles": {},
                "label": "Baking_Skills",
                "scale_factor": 1,
                "type": "#4CAF50",
                "size": [
                  55,
                  55
                ],
                "position": [
                  0,
                  0
                ]
              },
              {
                "id": 151,
                "properties": {
                  "id": "Baker",
                  "label": "__Entity__"
                },
                "color": "#673AB7",
                "styles": {},
                "label": "Baker",
                "scale_factor": 1,
                "type": "#673AB7",
                "size": [
                  55,
                  55
                ],
                "position": [
                  0,
                  0
                ]
              },
              {
                "id": 224,
                "properties": {
                  "id": "Tiramisu",
                  "label": "__Entity__:Dessert"
                },
                "color": "#CDDC39",
                "styles": {},
                "label": "Tiramisu",
                "scale_factor": 1,
                "type": "#CDDC39",
                "size": [
                  55,
                  55
                ],
                "position": [
                  0,
                  0
                ]
              },
              {
                "id": 225,
                "properties": {
                  "id": "Panna Cotta",
                  "label": "__Entity__:Dessert"
                },
                "color": "#CDDC39",
                "styles": {},
                "label": "Panna Cotta",
                "scale_factor": 1,
                "type": "#CDDC39",
                "size": [
                  55,
                  55
                ],
                "position": [
                  0,
                  0
                ]
              },
              {
                "id": 215,
                "properties": {
                  "id": "La Terra Di Siena",
                  "label": "Place:__Entity__:Restaurant"
                },
                "color": "#673AB7",
                "styles": {},
                "label": "La Terra Di Siena",
                "scale_factor": 1,
                "type": "#673AB7",
                "size": [
                  55,
                  55
                ],
                "position": [
                  0,
                  0
                ]
              },
              {
                "id": 192,
                "properties": {
                  "id": "Restaurant",
                  "label": "Place:__Entity__"
                },
                "color": "#673AB7",
                "styles": {},
                "label": "Restaurant",
                "scale_factor": 1,
                "type": "#673AB7",
                "size": [
                  55,
                  55
                ],
                "position": [
                  0,
                  0
                ]
              },
              {
                "id": 208,
                "properties": {
                  "id": "Grilled_Octopus_With_Lemon_And_Herbs",
                  "label": "__Entity__:Dish"
                },
                "color": "#2196F3",
                "styles": {},
                "label": "Grilled_Octopus_With_Lemon_And_Herbs",
                "scale_factor": 1,
                "type": "#2196F3",
                "size": [
                  55,
                  55
                ],
                "position": [
                  0,
                  0
                ]
              },
              {
                "id": 209,
                "properties": {
                  "id": "Spaghetti_Alle_Vongole",
                  "label": "__Entity__:Dish"
                },
                "color": "#2196F3",
                "styles": {},
                "label": "Spaghetti_Alle_Vongole",
                "scale_factor": 1,
                "type": "#2196F3",
                "size": [
                  55,
                  55
                ],
                "position": [
                  0,
                  0
                ]
              },
              {
                "id": 154,
                "properties": {
                  "id": "Sicilian Culture",
                  "label": "Culture:__Entity__"
                },
                "color": "#9E9E9E",
                "styles": {},
                "label": "Sicilian Culture",
                "scale_factor": 1,
                "type": "#9E9E9E",
                "size": [
                  55,
                  55
                ],
                "position": [
                  0,
                  0
                ]
              },
              {
                "id": 156,
                "properties": {
                  "id": "Fresh Pasta",
                  "label": "__Entity__:Dish:Food"
                },
                "color": "#9C27B0",
                "styles": {},
                "label": "Fresh Pasta",
                "scale_factor": 1,
                "type": "#9C27B0",
                "size": [
                  55,
                  55
                ],
                "position": [
                  0,
                  0
                ]
              },
              {
                "id": 157,
                "properties": {
                  "id": "Homemade Wine",
                  "label": "__Entity__:Beverage"
                },
                "color": "#2196F3",
                "styles": {},
                "label": "Homemade Wine",
                "scale_factor": 1,
                "type": "#2196F3",
                "size": [
                  55,
                  55
                ],
                "position": [
                  0,
                  0
                ]
              },
              {
                "id": 236,
                "properties": {
                  "id": "Amico'S",
                  "label": "__Entity__:Restaurant"
                },
                "color": "#4CAF50",
                "styles": {},
                "label": "Amico'S",
                "scale_factor": 1,
                "type": "#4CAF50",
                "size": [
                  55,
                  55
                ],
                "position": [
                  0,
                  0
                ]
              },
              {
                "id": 239,
                "properties": {
                  "id": "Porcini Mushroom Risotto",
                  "label": "__Entity__:Dish"
                },
                "color": "#2196F3",
                "styles": {},
                "label": "Porcini Mushroom Risotto",
                "scale_factor": 1,
                "type": "#2196F3",
                "size": [
                  55,
                  55
                ],
                "position": [
                  0,
                  0
                ]
              },
              {
                "id": 240,
                "properties": {
                  "id": "Burrata With Heirloom Tomatoes",
                  "label": "__Entity__:Dish"
                },
                "color": "#2196F3",
                "styles": {},
                "label": "Burrata With Heirloom Tomatoes",
                "scale_factor": 1,
                "type": "#2196F3",
                "size": [
                  55,
                  55
                ],
                "position": [
                  0,
                  0
                ]
              },
              {
                "id": 241,
                "properties": {
                  "id": "Sicilian Cuisine",
                  "label": "__Entity__:Cuisine"
                },
                "color": "#9E9E9E",
                "styles": {},
                "label": "Sicilian Cuisine",
                "scale_factor": 1,
                "type": "#9E9E9E",
                "size": [
                  55,
                  55
                ],
                "position": [
                  0,
                  0
                ]
              },
              {
                "id": 273,
                "properties": {
                  "id": "Community Involvement",
                  "label": "__Entity__:Concept"
                },
                "color": "#F44336",
                "styles": {},
                "label": "Community Involvement",
                "scale_factor": 1,
                "type": "#F44336",
                "size": [
                  55,
                  55
                ],
                "position": [
                  0,
                  0
                ]
              },
              {
                "id": 299,
                "properties": {
                  "id": "Farm-To-Table Initiative",
                  "label": "__Entity__:Project"
                },
                "color": "#F44336",
                "styles": {},
                "label": "Farm-To-Table Initiative",
                "scale_factor": 1,
                "type": "#F44336",
                "size": [
                  55,
                  55
                ],
                "position": [
                  0,
                  0
                ]
              },
              {
                "id": 348,
                "properties": {
                  "id": "Exhibitions",
                  "label": "Event:__Entity__"
                },
                "color": "#9E9E9E",
                "styles": {},
                "label": "Exhibitions",
                "scale_factor": 1,
                "type": "#9E9E9E",
                "size": [
                  55,
                  55
                ],
                "position": [
                  0,
                  0
                ]
              },
              {
                "id": 164,
                "properties": {
                  "id": "Nonna Lucia",
                  "label": "__Entity__:Person"
                },
                "color": "#4CAF50",
                "styles": {},
                "label": "Nonna Lucia",
                "scale_factor": 1,
                "type": "#4CAF50",
                "size": [
                  55,
                  55
                ],
                "position": [
                  0,
                  0
                ]
              },
              {
                "id": 165,
                "properties": {
                  "id": "Matriarch",
                  "label": "__Entity__"
                },
                "color": "#673AB7",
                "styles": {},
                "label": "Matriarch",
                "scale_factor": 1,
                "type": "#673AB7",
                "size": [
                  55,
                  55
                ],
                "position": [
                  0,
                  0
                ]
              },
              {
                "id": 170,
                "properties": {
                  "id": "Grandchildren",
                  "label": "__Entity__:Person"
                },
                "color": "#4CAF50",
                "styles": {},
                "label": "Grandchildren",
                "scale_factor": 1,
                "type": "#4CAF50",
                "size": [
                  55,
                  55
                ],
                "position": [
                  0,
                  0
                ]
              },
              {
                "id": 169,
                "properties": {
                  "id": "Caponata",
                  "label": "__Entity__:Dish"
                },
                "color": "#2196F3",
                "styles": {},
                "label": "Caponata",
                "scale_factor": 1,
                "type": "#2196F3",
                "size": [
                  55,
                  55
                ],
                "position": [
                  0,
                  0
                ]
              },
              {
                "id": 167,
                "properties": {
                  "id": "Lucia",
                  "label": "__Entity__:Person"
                },
                "color": "#4CAF50",
                "styles": {},
                "label": "Lucia",
                "scale_factor": 1,
                "type": "#4CAF50",
                "size": [
                  55,
                  55
                ],
                "position": [
                  0,
                  0
                ]
              },
              {
                "id": 254,
                "properties": {
                  "id": "Los Angeles",
                  "label": "Place:__Entity__:Location"
                },
                "color": "#CDDC39",
                "styles": {},
                "label": "Los Angeles",
                "scale_factor": 1,
                "type": "#CDDC39",
                "size": [
                  55,
                  55
                ],
                "position": [
                  0,
                  0
                ]
              },
              {
                "id": 255,
                "properties": {
                  "id": "Bella Vita",
                  "label": "Place:__Entity__:Business:Restaurant"
                },
                "color": "#607D8B",
                "styles": {},
                "label": "Bella Vita",
                "scale_factor": 1,
                "type": "#607D8B",
                "size": [
                  55,
                  55
                ],
                "position": [
                  0,
                  0
                ]
              },
              {
                "id": 256,
                "properties": {
                  "id": "Grandmother",
                  "label": "__Entity__:Person"
                },
                "color": "#4CAF50",
                "styles": {},
                "label": "Grandmother",
                "scale_factor": 1,
                "type": "#4CAF50",
                "size": [
                  55,
                  55
                ],
                "position": [
                  0,
                  0
                ]
              },
              {
                "id": 268,
                "properties": {
                  "id": "Local Artists",
                  "label": "__Entity__:Concept:Group"
                },
                "color": "#673AB7",
                "styles": {},
                "label": "Local Artists",
                "scale_factor": 1,
                "type": "#673AB7",
                "size": [
                  55,
                  55
                ],
                "position": [
                  0,
                  0
                ]
              },
              {
                "id": 289,
                "properties": {
                  "id": "Sustainable Cooking Practices",
                  "label": "__Entity__:Concept"
                },
                "color": "#F44336",
                "styles": {},
                "label": "Sustainable Cooking Practices",
                "scale_factor": 1,
                "type": "#F44336",
                "size": [
                  55,
                  55
                ],
                "position": [
                  0,
                  0
                ]
              },
              {
                "id": 172,
                "properties": {
                  "id": "She",
                  "label": "__Entity__:Person"
                },
                "color": "#4CAF50",
                "styles": {},
                "label": "She",
                "scale_factor": 1,
                "type": "#4CAF50",
                "size": [
                  55,
                  55
                ],
                "position": [
                  0,
                  0
                ]
              },
              {
                "id": 173,
                "properties": {
                  "id": "Family",
                  "label": "Group:Organization:__Entity__:Entity:Person"
                },
                "color": "#CDDC39",
                "styles": {},
                "label": "Family",
                "scale_factor": 1,
                "type": "#CDDC39",
                "size": [
                  55,
                  55
                ],
                "position": [
                  0,
                  0
                ]
              },
              {
                "id": 174,
                "properties": {
                  "id": "Community",
                  "label": "__Entity__:Concept"
                },
                "color": "#F44336",
                "styles": {},
                "label": "Community",
                "scale_factor": 1,
                "type": "#F44336",
                "size": [
                  55,
                  55
                ],
                "position": [
                  0,
                  0
                ]
              },
              {
                "id": 181,
                "properties": {
                  "id": "Establishments",
                  "label": "__Entity__:Concept:Entity:Establishment"
                },
                "color": "#9E9E9E",
                "styles": {},
                "label": "Establishments",
                "scale_factor": 1,
                "type": "#9E9E9E",
                "size": [
                  55,
                  55
                ],
                "position": [
                  0,
                  0
                ]
              },
              {
                "id": 350,
                "properties": {
                  "id": "Local Talent",
                  "label": "__Entity__:Concept"
                },
                "color": "#F44336",
                "styles": {},
                "label": "Local Talent",
                "scale_factor": 1,
                "type": "#F44336",
                "size": [
                  55,
                  55
                ],
                "position": [
                  0,
                  0
                ]
              },
              {
                "id": 294,
                "properties": {
                  "id": "Young Chefs",
                  "label": "__Entity__:Person"
                },
                "color": "#4CAF50",
                "styles": {},
                "label": "Young Chefs",
                "scale_factor": 1,
                "type": "#4CAF50",
                "size": [
                  55,
                  55
                ],
                "position": [
                  0,
                  0
                ]
              },
              {
                "id": 308,
                "properties": {
                  "id": "Awareness",
                  "label": "__Entity__:Concept"
                },
                "color": "#F44336",
                "styles": {},
                "label": "Awareness",
                "scale_factor": 1,
                "type": "#F44336",
                "size": [
                  55,
                  55
                ],
                "position": [
                  0,
                  0
                ]
              },
              {
                "id": 351,
                "properties": {
                  "id": "Local Musicians",
                  "label": "__Entity__:Concept"
                },
                "color": "#F44336",
                "styles": {},
                "label": "Local Musicians",
                "scale_factor": 1,
                "type": "#F44336",
                "size": [
                  55,
                  55
                ],
                "position": [
                  0,
                  0
                ]
              },
              {
                "id": 352,
                "properties": {
                  "id": "Performers",
                  "label": "__Entity__:Concept"
                },
                "color": "#F44336",
                "styles": {},
                "label": "Performers",
                "scale_factor": 1,
                "type": "#F44336",
                "size": [
                  55,
                  55
                ],
                "position": [
                  0,
                  0
                ]
              },
              {
                "id": 353,
                "properties": {
                  "id": "Cultural Experience",
                  "label": "__Entity__:Concept"
                },
                "color": "#F44336",
                "styles": {},
                "label": "Cultural Experience",
                "scale_factor": 1,
                "type": "#F44336",
                "size": [
                  55,
                  55
                ],
                "position": [
                  0,
                  0
                ]
              },
              {
                "id": 309,
                "properties": {
                  "id": "Benefits",
                  "label": "__Entity__:Concept"
                },
                "color": "#F44336",
                "styles": {},
                "label": "Benefits",
                "scale_factor": 1,
                "type": "#F44336",
                "size": [
                  55,
                  55
                ],
                "position": [
                  0,
                  0
                ]
              },
              {
                "id": 176,
                "properties": {
                  "id": "Amico'S Family",
                  "label": "__Entity__:Person"
                },
                "color": "#4CAF50",
                "styles": {},
                "label": "Amico'S Family",
                "scale_factor": 1,
                "type": "#4CAF50",
                "size": [
                  55,
                  55
                ],
                "position": [
                  0,
                  0
                ]
              },
              {
                "id": 182,
                "properties": {
                  "id": "Excellence",
                  "label": "__Entity__:Concept"
                },
                "color": "#F44336",
                "styles": {},
                "label": "Excellence",
                "scale_factor": 1,
                "type": "#F44336",
                "size": [
                  55,
                  55
                ],
                "position": [
                  0,
                  0
                ]
              },
              {
                "id": 305,
                "properties": {
                  "id": "Ingredients",
                  "label": "__Entity__:Entity"
                },
                "color": "#9C27B0",
                "styles": {},
                "label": "Ingredients",
                "scale_factor": 1,
                "type": "#9C27B0",
                "size": [
                  55,
                  55
                ],
                "position": [
                  0,
                  0
                ]
              },
              {
                "id": 187,
                "properties": {
                  "id": "Trevi Fountain",
                  "label": "Place:__Entity__"
                },
                "color": "#673AB7",
                "styles": {},
                "label": "Trevi Fountain",
                "scale_factor": 1,
                "type": "#673AB7",
                "size": [
                  55,
                  55
                ],
                "position": [
                  0,
                  0
                ]
              },
              {
                "id": 227,
                "properties": {
                  "id": "Vineyards",
                  "label": "Place:__Entity__"
                },
                "color": "#673AB7",
                "styles": {},
                "label": "Vineyards",
                "scale_factor": 1,
                "type": "#673AB7",
                "size": [
                  55,
                  55
                ],
                "position": [
                  0,
                  0
                ]
              },
              {
                "id": 228,
                "properties": {
                  "id": "Olive Groves",
                  "label": "Place:__Entity__"
                },
                "color": "#673AB7",
                "styles": {},
                "label": "Olive Groves",
                "scale_factor": 1,
                "type": "#673AB7",
                "size": [
                  55,
                  55
                ],
                "position": [
                  0,
                  0
                ]
              },
              {
                "id": 194,
                "properties": {
                  "id": "Live Classical Music",
                  "label": "__Entity__:Concept"
                },
                "color": "#F44336",
                "styles": {},
                "label": "Live Classical Music",
                "scale_factor": 1,
                "type": "#F44336",
                "size": [
                  55,
                  55
                ],
                "position": [
                  0,
                  0
                ]
              },
              {
                "id": 199,
                "properties": {
                  "id": "Amalfi Coast",
                  "label": "__Entity__:Location"
                },
                "color": "#2196F3",
                "styles": {},
                "label": "Amalfi Coast",
                "scale_factor": 1,
                "type": "#2196F3",
                "size": [
                  55,
                  55
                ],
                "position": [
                  0,
                  0
                ]
              },
              {
                "id": 213,
                "properties": {
                  "id": "Mediterranean",
                  "label": "__Entity__:Location"
                },
                "color": "#2196F3",
                "styles": {},
                "label": "Mediterranean",
                "scale_factor": 1,
                "type": "#2196F3",
                "size": [
                  55,
                  55
                ],
                "position": [
                  0,
                  0
                ]
              },
              {
                "id": 200,
                "properties": {
                  "id": "Italy'S Coastal Cuisine",
                  "label": "__Entity__:Cuisine"
                },
                "color": "#9E9E9E",
                "styles": {},
                "label": "Italy'S Coastal Cuisine",
                "scale_factor": 1,
                "type": "#9E9E9E",
                "size": [
                  55,
                  55
                ],
                "position": [
                  0,
                  0
                ]
              },
              {
                "id": 197,
                "properties": {
                  "id": "Pietro Caruso",
                  "label": "__Entity__:Person"
                },
                "color": "#4CAF50",
                "styles": {},
                "label": "Pietro Caruso",
                "scale_factor": 1,
                "type": "#4CAF50",
                "size": [
                  55,
                  55
                ],
                "position": [
                  0,
                  0
                ]
              },
              {
                "id": 202,
                "properties": {
                  "id": "Fishing_Expertise",
                  "label": "__Entity__:Skill"
                },
                "color": "#4CAF50",
                "styles": {},
                "label": "Fishing_Expertise",
                "scale_factor": 1,
                "type": "#4CAF50",
                "size": [
                  55,
                  55
                ],
                "position": [
                  0,
                  0
                ]
              },
              {
                "id": 210,
                "properties": {
                  "id": "Daily_Catch",
                  "label": "__Entity__"
                },
                "color": "#673AB7",
                "styles": {},
                "label": "Daily_Catch",
                "scale_factor": 1,
                "type": "#673AB7",
                "size": [
                  55,
                  55
                ],
                "position": [
                  0,
                  0
                ]
              },
              {
                "id": 212,
                "properties": {
                  "id": "Vongole",
                  "label": "__Entity__:Dish"
                },
                "color": "#2196F3",
                "styles": {},
                "label": "Vongole",
                "scale_factor": 1,
                "type": "#2196F3",
                "size": [
                  55,
                  55
                ],
                "position": [
                  0,
                  0
                ]
              },
              {
                "id": 218,
                "properties": {
                  "id": "Tuscany",
                  "label": "__Entity__:Location"
                },
                "color": "#2196F3",
                "styles": {},
                "label": "Tuscany",
                "scale_factor": 1,
                "type": "#2196F3",
                "size": [
                  55,
                  55
                ],
                "position": [
                  0,
                  0
                ]
              },
              {
                "id": 231,
                "properties": {
                  "id": "Locally Sourced Ingredients",
                  "label": "__Entity__:Ingredient"
                },
                "color": "#4CAF50",
                "styles": {},
                "label": "Locally Sourced Ingredients",
                "scale_factor": 1,
                "type": "#4CAF50",
                "size": [
                  55,
                  55
                ],
                "position": [
                  0,
                  0
                ]
              },
              {
                "id": 230,
                "properties": {
                  "id": "Food Enthusiasts",
                  "label": "__Entity__:Group"
                },
                "color": "#F44336",
                "styles": {},
                "label": "Food Enthusiasts",
                "scale_factor": 1,
                "type": "#F44336",
                "size": [
                  55,
                  55
                ],
                "position": [
                  0,
                  0
                ]
              },
              {
                "id": 216,
                "properties": {
                  "id": "Sofia Caruso",
                  "label": "__Entity__:Person"
                },
                "color": "#4CAF50",
                "styles": {},
                "label": "Sofia Caruso",
                "scale_factor": 1,
                "type": "#4CAF50",
                "size": [
                  55,
                  55
                ],
                "position": [
                  0,
                  0
                ]
              },
              {
                "id": 220,
                "properties": {
                  "id": "Farmhouse",
                  "label": "Place:__Entity__"
                },
                "color": "#673AB7",
                "styles": {},
                "label": "Farmhouse",
                "scale_factor": 1,
                "type": "#673AB7",
                "size": [
                  55,
                  55
                ],
                "position": [
                  0,
                  0
                ]
              },
              {
                "id": 221,
                "properties": {
                  "id": "Tuscan Cuisine",
                  "label": "__Entity__:Cuisine"
                },
                "color": "#9E9E9E",
                "styles": {},
                "label": "Tuscan Cuisine",
                "scale_factor": 1,
                "type": "#9E9E9E",
                "size": [
                  55,
                  55
                ],
                "position": [
                  0,
                  0
                ]
              },
              {
                "id": 222,
                "properties": {
                  "id": "Bistecca Alla Fiorentina",
                  "label": "__Entity__:Dish"
                },
                "color": "#2196F3",
                "styles": {},
                "label": "Bistecca Alla Fiorentina",
                "scale_factor": 1,
                "type": "#2196F3",
                "size": [
                  55,
                  55
                ],
                "position": [
                  0,
                  0
                ]
              },
              {
                "id": 223,
                "properties": {
                  "id": "Pappardelle Al Cinghiale",
                  "label": "__Entity__:Dish"
                },
                "color": "#2196F3",
                "styles": {},
                "label": "Pappardelle Al Cinghiale",
                "scale_factor": 1,
                "type": "#2196F3",
                "size": [
                  55,
                  55
                ],
                "position": [
                  0,
                  0
                ]
              },
              {
                "id": 234,
                "properties": {
                  "id": "Amico Caruso",
                  "label": "__Entity__:Person"
                },
                "color": "#4CAF50",
                "styles": {},
                "label": "Amico Caruso",
                "scale_factor": 1,
                "type": "#4CAF50",
                "size": [
                  55,
                  55
                ],
                "position": [
                  0,
                  0
                ]
              },
              {
                "id": 233,
                "properties": {
                  "id": "Amico'S - New York City",
                  "label": "Place:__Entity__"
                },
                "color": "#673AB7",
                "styles": {},
                "label": "Amico'S - New York City",
                "scale_factor": 1,
                "type": "#673AB7",
                "size": [
                  55,
                  55
                ],
                "position": [
                  0,
                  0
                ]
              },
              {
                "id": 245,
                "properties": {
                  "id": "New",
                  "label": "__Entity__:Location"
                },
                "color": "#2196F3",
                "styles": {},
                "label": "New",
                "scale_factor": 1,
                "type": "#2196F3",
                "size": [
                  55,
                  55
                ],
                "position": [
                  0,
                  0
                ]
              },
              {
                "id": 243,
                "properties": {
                  "id": "Celebrities",
                  "label": "__Entity__:Person"
                },
                "color": "#4CAF50",
                "styles": {},
                "label": "Celebrities",
                "scale_factor": 1,
                "type": "#4CAF50",
                "size": [
                  55,
                  55
                ],
                "position": [
                  0,
                  0
                ]
              },
              {
                "id": 244,
                "properties": {
                  "id": "Food Critics",
                  "label": "__Entity__:Person"
                },
                "color": "#4CAF50",
                "styles": {},
                "label": "Food Critics",
                "scale_factor": 1,
                "type": "#4CAF50",
                "size": [
                  55,
                  55
                ],
                "position": [
                  0,
                  0
                ]
              },
              {
                "id": 247,
                "properties": {
                  "id": "New York",
                  "label": "__Entity__:Location"
                },
                "color": "#2196F3",
                "styles": {},
                "label": "New York",
                "scale_factor": 1,
                "type": "#2196F3",
                "size": [
                  55,
                  55
                ],
                "position": [
                  0,
                  0
                ]
              },
              {
                "id": 248,
                "properties": {
                  "id": "Dining Scene",
                  "label": "__Entity__:Concept"
                },
                "color": "#F44336",
                "styles": {},
                "label": "Dining Scene",
                "scale_factor": 1,
                "type": "#F44336",
                "size": [
                  55,
                  55
                ],
                "position": [
                  0,
                  0
                ]
              },
              {
                "id": 249,
                "properties": {
                  "id": "Competitive",
                  "label": "Adjective:__Entity__"
                },
                "color": "#607D8B",
                "styles": {},
                "label": "Competitive",
                "scale_factor": 1,
                "type": "#607D8B",
                "size": [
                  55,
                  55
                ],
                "position": [
                  0,
                  0
                ]
              },
              {
                "id": 252,
                "properties": {
                  "id": "Lucia Caruso",
                  "label": "__Entity__:Person"
                },
                "color": "#4CAF50",
                "styles": {},
                "label": "Lucia Caruso",
                "scale_factor": 1,
                "type": "#4CAF50",
                "size": [
                  55,
                  55
                ],
                "position": [
                  0,
                  0
                ]
              },
              {
                "id": 251,
                "properties": {
                  "id": "Bella Vita - Los Angeles",
                  "label": "Place:__Entity__"
                },
                "color": "#673AB7",
                "styles": {},
                "label": "Bella Vita - Los Angeles",
                "scale_factor": 1,
                "type": "#673AB7",
                "size": [
                  55,
                  55
                ],
                "position": [
                  0,
                  0
                ]
              },
              {
                "id": 263,
                "properties": {
                  "id": "Rooftop",
                  "label": "__Entity__:Feature"
                },
                "color": "#673AB7",
                "styles": {},
                "label": "Rooftop",
                "scale_factor": 1,
                "type": "#673AB7",
                "size": [
                  55,
                  55
                ],
                "position": [
                  0,
                  0
                ]
              },
              {
                "id": 265,
                "properties": {
                  "id": "Rooftop Bar",
                  "label": "Place:__Entity__"
                },
                "color": "#673AB7",
                "styles": {},
                "label": "Rooftop Bar",
                "scale_factor": 1,
                "type": "#673AB7",
                "size": [
                  55,
                  55
                ],
                "position": [
                  0,
                  0
                ]
              },
              {
                "id": 259,
                "properties": {
                  "id": "Gluten-Free Pasta",
                  "label": "__Entity__:Dish"
                },
                "color": "#2196F3",
                "styles": {},
                "label": "Gluten-Free Pasta",
                "scale_factor": 1,
                "type": "#2196F3",
                "size": [
                  55,
                  55
                ],
                "position": [
                  0,
                  0
                ]
              },
              {
                "id": 260,
                "properties": {
                  "id": "Organic Salads",
                  "label": "__Entity__:Dish"
                },
                "color": "#2196F3",
                "styles": {},
                "label": "Organic Salads",
                "scale_factor": 1,
                "type": "#2196F3",
                "size": [
                  55,
                  55
                ],
                "position": [
                  0,
                  0
                ]
              },
              {
                "id": 261,
                "properties": {
                  "id": "Lasagna",
                  "label": "__Entity__:Dish"
                },
                "color": "#2196F3",
                "styles": {},
                "label": "Lasagna",
                "scale_factor": 1,
                "type": "#2196F3",
                "size": [
                  55,
                  55
                ],
                "position": [
                  0,
                  0
                ]
              },
              {
                "id": 262,
                "properties": {
                  "id": "Cannoli",
                  "label": "__Entity__:Dish"
                },
                "color": "#2196F3",
                "styles": {},
                "label": "Cannoli",
                "scale_factor": 1,
                "type": "#2196F3",
                "size": [
                  55,
                  55
                ],
                "position": [
                  0,
                  0
                ]
              },
              {
                "id": 258,
                "properties": {
                  "id": "La'S Diverse And Health-Conscious Population",
                  "label": "__Entity__:Population"
                },
                "color": "#CDDC39",
                "styles": {},
                "label": "La'S Diverse And Health-Conscious Population",
                "scale_factor": 1,
                "type": "#CDDC39",
                "size": [
                  55,
                  55
                ],
                "position": [
                  0,
                  0
                ]
              },
              {
                "id": 271,
                "properties": {
                  "id": "Culture",
                  "label": "__Entity__:Concept"
                },
                "color": "#F44336",
                "styles": {},
                "label": "Culture",
                "scale_factor": 1,
                "type": "#F44336",
                "size": [
                  55,
                  55
                ],
                "position": [
                  0,
                  0
                ]
              },
              {
                "id": 266,
                "properties": {
                  "id": "Italian-Inspired Cocktails",
                  "label": "__Entity__:Food"
                },
                "color": "#F44336",
                "styles": {},
                "label": "Italian-Inspired Cocktails",
                "scale_factor": 1,
                "type": "#F44336",
                "size": [
                  55,
                  55
                ],
                "position": [
                  0,
                  0
                ]
              },
              {
                "id": 267,
                "properties": {
                  "id": "Small Plates",
                  "label": "__Entity__:Food"
                },
                "color": "#F44336",
                "styles": {},
                "label": "Small Plates",
                "scale_factor": 1,
                "type": "#F44336",
                "size": [
                  55,
                  55
                ],
                "position": [
                  0,
                  0
                ]
              },
              {
                "id": 278,
                "properties": {
                  "id": "Cultural Exchange",
                  "label": "__Entity__:Concept"
                },
                "color": "#F44336",
                "styles": {},
                "label": "Cultural Exchange",
                "scale_factor": 1,
                "type": "#F44336",
                "size": [
                  55,
                  55
                ],
                "position": [
                  0,
                  0
                ]
              },
              {
                "id": 280,
                "properties": {
                  "id": "Culinary Workshops",
                  "label": "__Entity__:Concept"
                },
                "color": "#F44336",
                "styles": {},
                "label": "Culinary Workshops",
                "scale_factor": 1,
                "type": "#F44336",
                "size": [
                  55,
                  55
                ],
                "position": [
                  0,
                  0
                ]
              },
              {
                "id": 281,
                "properties": {
                  "id": "Mentorship Programs",
                  "label": "__Entity__:Concept"
                },
                "color": "#F44336",
                "styles": {},
                "label": "Mentorship Programs",
                "scale_factor": 1,
                "type": "#F44336",
                "size": [
                  55,
                  55
                ],
                "position": [
                  0,
                  0
                ]
              },
              {
                "id": 290,
                "properties": {
                  "id": "Organic Ingredients",
                  "label": "__Entity__:Concept"
                },
                "color": "#F44336",
                "styles": {},
                "label": "Organic Ingredients",
                "scale_factor": 1,
                "type": "#F44336",
                "size": [
                  55,
                  55
                ],
                "position": [
                  0,
                  0
                ]
              },
              {
                "id": 291,
                "properties": {
                  "id": "Local Ingredients",
                  "label": "__Entity__:Concept"
                },
                "color": "#F44336",
                "styles": {},
                "label": "Local Ingredients",
                "scale_factor": 1,
                "type": "#F44336",
                "size": [
                  55,
                  55
                ],
                "position": [
                  0,
                  0
                ]
              },
              {
                "id": 292,
                "properties": {
                  "id": "Aspiring Chefs",
                  "label": "__Entity__:Group"
                },
                "color": "#F44336",
                "styles": {},
                "label": "Aspiring Chefs",
                "scale_factor": 1,
                "type": "#F44336",
                "size": [
                  55,
                  55
                ],
                "position": [
                  0,
                  0
                ]
              },
              {
                "id": 285,
                "properties": {
                  "id": "Seafood Preparation",
                  "label": "__Entity__:Skill"
                },
                "color": "#4CAF50",
                "styles": {},
                "label": "Seafood Preparation",
                "scale_factor": 1,
                "type": "#4CAF50",
                "size": [
                  55,
                  55
                ],
                "position": [
                  0,
                  0
                ]
              },
              {
                "id": 286,
                "properties": {
                  "id": "Baking",
                  "label": "__Entity__:Skill"
                },
                "color": "#4CAF50",
                "styles": {},
                "label": "Baking",
                "scale_factor": 1,
                "type": "#4CAF50",
                "size": [
                  55,
                  55
                ],
                "position": [
                  0,
                  0
                ]
              },
              {
                "id": 298,
                "properties": {
                  "id": "Carusos",
                  "label": "Organization:__Entity__:Person"
                },
                "color": "#9E9E9E",
                "styles": {},
                "label": "Carusos",
                "scale_factor": 1,
                "type": "#9E9E9E",
                "size": [
                  55,
                  55
                ],
                "position": [
                  0,
                  0
                ]
              },
              {
                "id": 332,
                "properties": {
                  "id": "Cultural And Culinary Festivals",
                  "label": "Event:__Entity__"
                },
                "color": "#9E9E9E",
                "styles": {},
                "label": "Cultural And Culinary Festivals",
                "scale_factor": 1,
                "type": "#9E9E9E",
                "size": [
                  55,
                  55
                ],
                "position": [
                  0,
                  0
                ]
              },
              {
                "id": 302,
                "properties": {
                  "id": "Restaurants",
                  "label": "Place:__Entity__"
                },
                "color": "#673AB7",
                "styles": {},
                "label": "Restaurants",
                "scale_factor": 1,
                "type": "#673AB7",
                "size": [
                  55,
                  55
                ],
                "position": [
                  0,
                  0
                ]
              },
              {
                "id": 300,
                "properties": {
                  "id": "Local Farmers",
                  "label": "__Entity__:Group"
                },
                "color": "#F44336",
                "styles": {},
                "label": "Local Farmers",
                "scale_factor": 1,
                "type": "#F44336",
                "size": [
                  55,
                  55
                ],
                "position": [
                  0,
                  0
                ]
              },
              {
                "id": 301,
                "properties": {
                  "id": "Local Producers",
                  "label": "__Entity__:Group"
                },
                "color": "#F44336",
                "styles": {},
                "label": "Local Producers",
                "scale_factor": 1,
                "type": "#F44336",
                "size": [
                  55,
                  55
                ],
                "position": [
                  0,
                  0
                ]
              },
              {
                "id": 304,
                "properties": {
                  "id": "Initiative",
                  "label": "__Entity__:Entity"
                },
                "color": "#9C27B0",
                "styles": {},
                "label": "Initiative",
                "scale_factor": 1,
                "type": "#9C27B0",
                "size": [
                  55,
                  55
                ],
                "position": [
                  0,
                  0
                ]
              },
              {
                "id": 306,
                "properties": {
                  "id": "Environmental Sustainability",
                  "label": "__Entity__:Concept"
                },
                "color": "#F44336",
                "styles": {},
                "label": "Environmental Sustainability",
                "scale_factor": 1,
                "type": "#F44336",
                "size": [
                  55,
                  55
                ],
                "position": [
                  0,
                  0
                ]
              },
              {
                "id": 307,
                "properties": {
                  "id": "Local Economy",
                  "label": "__Entity__:Concept"
                },
                "color": "#F44336",
                "styles": {},
                "label": "Local Economy",
                "scale_factor": 1,
                "type": "#F44336",
                "size": [
                  55,
                  55
                ],
                "position": [
                  0,
                  0
                ]
              },
              {
                "id": 311,
                "properties": {
                  "id": "Seasonal Produce",
                  "label": "__Entity__:Concept"
                },
                "color": "#F44336",
                "styles": {},
                "label": "Seasonal Produce",
                "scale_factor": 1,
                "type": "#F44336",
                "size": [
                  55,
                  55
                ],
                "position": [
                  0,
                  0
                ]
              },
              {
                "id": 313,
                "properties": {
                  "id": "Health Benefits",
                  "label": "__Entity__:Concept"
                },
                "color": "#F44336",
                "styles": {},
                "label": "Health Benefits",
                "scale_factor": 1,
                "type": "#F44336",
                "size": [
                  55,
                  55
                ],
                "position": [
                  0,
                  0
                ]
              },
              {
                "id": 314,
                "properties": {
                  "id": "Environmental Benefits",
                  "label": "__Entity__:Concept"
                },
                "color": "#F44336",
                "styles": {},
                "label": "Environmental Benefits",
                "scale_factor": 1,
                "type": "#F44336",
                "size": [
                  55,
                  55
                ],
                "position": [
                  0,
                  0
                ]
              },
              {
                "id": 315,
                "properties": {
                  "id": "Economic Benefits",
                  "label": "__Entity__:Concept"
                },
                "color": "#F44336",
                "styles": {},
                "label": "Economic Benefits",
                "scale_factor": 1,
                "type": "#F44336",
                "size": [
                  55,
                  55
                ],
                "position": [
                  0,
                  0
                ]
              },
              {
                "id": 312,
                "properties": {
                  "id": "Organic Produce",
                  "label": "__Entity__:Concept"
                },
                "color": "#F44336",
                "styles": {},
                "label": "Organic Produce",
                "scale_factor": 1,
                "type": "#F44336",
                "size": [
                  55,
                  55
                ],
                "position": [
                  0,
                  0
                ]
              },
              {
                "id": 317,
                "properties": {
                  "id": "Food For All",
                  "label": "__Entity__:Concept"
                },
                "color": "#F44336",
                "styles": {},
                "label": "Food For All",
                "scale_factor": 1,
                "type": "#F44336",
                "size": [
                  55,
                  55
                ],
                "position": [
                  0,
                  0
                ]
              },
              {
                "id": 318,
                "properties": {
                  "id": "Community Kitchens",
                  "label": "__Entity__:Concept"
                },
                "color": "#F44336",
                "styles": {},
                "label": "Community Kitchens",
                "scale_factor": 1,
                "type": "#F44336",
                "size": [
                  55,
                  55
                ],
                "position": [
                  0,
                  0
                ]
              },
              {
                "id": 319,
                "properties": {
                  "id": "Food Drives",
                  "label": "Event:__Entity__:Concept"
                },
                "color": "#9C27B0",
                "styles": {},
                "label": "Food Drives",
                "scale_factor": 1,
                "type": "#9C27B0",
                "size": [
                  55,
                  55
                ],
                "position": [
                  0,
                  0
                ]
              },
              {
                "id": 324,
                "properties": {
                  "id": "Patrons",
                  "label": "__Entity__:Group"
                },
                "color": "#F44336",
                "styles": {},
                "label": "Patrons",
                "scale_factor": 1,
                "type": "#F44336",
                "size": [
                  55,
                  55
                ],
                "position": [
                  0,
                  0
                ]
              },
              {
                "id": 325,
                "properties": {
                  "id": "Local Businesses",
                  "label": "__Entity__:Group"
                },
                "color": "#F44336",
                "styles": {},
                "label": "Local Businesses",
                "scale_factor": 1,
                "type": "#F44336",
                "size": [
                  55,
                  55
                ],
                "position": [
                  0,
                  0
                ]
              },
              {
                "id": 322,
                "properties": {
                  "id": "Low-Income Families",
                  "label": "__Entity__:Group"
                },
                "color": "#F44336",
                "styles": {},
                "label": "Low-Income Families",
                "scale_factor": 1,
                "type": "#F44336",
                "size": [
                  55,
                  55
                ],
                "position": [
                  0,
                  0
                ]
              },
              {
                "id": 323,
                "properties": {
                  "id": "Nutritious Food",
                  "label": "__Entity__:Concept"
                },
                "color": "#F44336",
                "styles": {},
                "label": "Nutritious Food",
                "scale_factor": 1,
                "type": "#F44336",
                "size": [
                  55,
                  55
                ],
                "position": [
                  0,
                  0
                ]
              },
              {
                "id": 326,
                "properties": {
                  "id": "Family Effort",
                  "label": "__Entity__:Concept"
                },
                "color": "#F44336",
                "styles": {},
                "label": "Family Effort",
                "scale_factor": 1,
                "type": "#F44336",
                "size": [
                  55,
                  55
                ],
                "position": [
                  0,
                  0
                ]
              },
              {
                "id": 328,
                "properties": {
                  "id": "Skills",
                  "label": "__Entity__:Concept"
                },
                "color": "#F44336",
                "styles": {},
                "label": "Skills",
                "scale_factor": 1,
                "type": "#F44336",
                "size": [
                  55,
                  55
                ],
                "position": [
                  0,
                  0
                ]
              },
              {
                "id": 330,
                "properties": {
                  "id": "Those In Need",
                  "label": "__Entity__:Concept"
                },
                "color": "#F44336",
                "styles": {},
                "label": "Those In Need",
                "scale_factor": 1,
                "type": "#F44336",
                "size": [
                  55,
                  55
                ],
                "position": [
                  0,
                  0
                ]
              },
              {
                "id": 329,
                "properties": {
                  "id": "Resources",
                  "label": "__Entity__:Concept"
                },
                "color": "#F44336",
                "styles": {},
                "label": "Resources",
                "scale_factor": 1,
                "type": "#F44336",
                "size": [
                  55,
                  55
                ],
                "position": [
                  0,
                  0
                ]
              },
              {
                "id": 334,
                "properties": {
                  "id": "Sicilian Dishes",
                  "label": "__Entity__:Food"
                },
                "color": "#F44336",
                "styles": {},
                "label": "Sicilian Dishes",
                "scale_factor": 1,
                "type": "#F44336",
                "size": [
                  55,
                  55
                ],
                "position": [
                  0,
                  0
                ]
              },
              {
                "id": 335,
                "properties": {
                  "id": "International Cuisines",
                  "label": "__Entity__:Food"
                },
                "color": "#F44336",
                "styles": {},
                "label": "International Cuisines",
                "scale_factor": 1,
                "type": "#F44336",
                "size": [
                  55,
                  55
                ],
                "position": [
                  0,
                  0
                ]
              },
              {
                "id": 338,
                "properties": {
                  "id": "Festivals",
                  "label": "Event:__Entity__"
                },
                "color": "#9E9E9E",
                "styles": {},
                "label": "Festivals",
                "scale_factor": 1,
                "type": "#9E9E9E",
                "size": [
                  55,
                  55
                ],
                "position": [
                  0,
                  0
                ]
              },
              {
                "id": 339,
                "properties": {
                  "id": "Live Performances",
                  "label": "__Entity__:Activity"
                },
                "color": "#607D8B",
                "styles": {},
                "label": "Live Performances",
                "scale_factor": 1,
                "type": "#607D8B",
                "size": [
                  55,
                  55
                ],
                "position": [
                  0,
                  0
                ]
              },
              {
                "id": 340,
                "properties": {
                  "id": "Cooking Demonstrations",
                  "label": "__Entity__:Activity"
                },
                "color": "#607D8B",
                "styles": {},
                "label": "Cooking Demonstrations",
                "scale_factor": 1,
                "type": "#607D8B",
                "size": [
                  55,
                  55
                ],
                "position": [
                  0,
                  0
                ]
              },
              {
                "id": 341,
                "properties": {
                  "id": "Artisan Markets",
                  "label": "__Entity__:Activity"
                },
                "color": "#607D8B",
                "styles": {},
                "label": "Artisan Markets",
                "scale_factor": 1,
                "type": "#607D8B",
                "size": [
                  55,
                  55
                ],
                "position": [
                  0,
                  0
                ]
              },
              {
                "id": 344,
                "properties": {
                  "id": "Backgrounds",
                  "label": "__Entity__:Concept"
                },
                "color": "#F44336",
                "styles": {},
                "label": "Backgrounds",
                "scale_factor": 1,
                "type": "#F44336",
                "size": [
                  55,
                  55
                ],
                "position": [
                  0,
                  0
                ]
              }
            ],
            "_overview": {
              "enabled": null,
              "overview_set": false
            },
            "_selected_graph": [
              [],
              []
            ],
            "_sidebar": {
              "enabled": false,
              "start_with": null
            },
            "_view_count": null,
            "_view_module": "yfiles-jupyter-graphs",
            "_view_module_version": "^1.8.1",
            "_view_name": "GraphView",
            "layout": "IPY_MODEL_ba349e3333354718a6b4529940b821a6",
            "tabbable": null,
            "tooltip": null
          }
        },
        "ba349e3333354718a6b4529940b821a6": {
          "model_module": "@jupyter-widgets/base",
          "model_name": "LayoutModel",
          "model_module_version": "2.0.0",
          "state": {
            "_model_module": "@jupyter-widgets/base",
            "_model_module_version": "2.0.0",
            "_model_name": "LayoutModel",
            "_view_count": null,
            "_view_module": "@jupyter-widgets/base",
            "_view_module_version": "2.0.0",
            "_view_name": "LayoutView",
            "align_content": null,
            "align_items": null,
            "align_self": null,
            "border_bottom": null,
            "border_left": null,
            "border_right": null,
            "border_top": null,
            "bottom": null,
            "display": null,
            "flex": null,
            "flex_flow": null,
            "grid_area": null,
            "grid_auto_columns": null,
            "grid_auto_flow": null,
            "grid_auto_rows": null,
            "grid_column": null,
            "grid_gap": null,
            "grid_row": null,
            "grid_template_areas": null,
            "grid_template_columns": null,
            "grid_template_rows": null,
            "height": "800px",
            "justify_content": null,
            "justify_items": null,
            "left": null,
            "margin": null,
            "max_height": null,
            "max_width": null,
            "min_height": null,
            "min_width": null,
            "object_fit": null,
            "object_position": null,
            "order": null,
            "overflow": null,
            "padding": null,
            "right": null,
            "top": null,
            "visibility": null,
            "width": "100%"
          }
        }
      }
    }
  },
  "cells": [
    {
      "cell_type": "markdown",
      "metadata": {
        "id": "view-in-github",
        "colab_type": "text"
      },
      "source": [
        "<a href=\"https://colab.research.google.com/github/Mofek/Mofek/blob/main/KG_POC_01_09.ipynb\" target=\"_parent\"><img src=\"https://colab.research.google.com/assets/colab-badge.svg\" alt=\"Open In Colab\"/></a>"
      ]
    },
    {
      "cell_type": "code",
      "source": [
        "from google.colab import userdata\n",
        "userdata.get('secretName')"
      ],
      "metadata": {
        "id": "vvgX_cK4Rv0B"
      },
      "execution_count": null,
      "outputs": []
    },
    {
      "cell_type": "code",
      "execution_count": 1,
      "metadata": {
        "colab": {
          "base_uri": "https://localhost:8080/"
        },
        "id": "t0OA--Lxvspy",
        "outputId": "55ab5686-259d-4bd1-9bf8-00c7f82fd59b"
      },
      "outputs": [
        {
          "output_type": "stream",
          "name": "stdout",
          "text": [
            "\u001b[2K     \u001b[90m━━━━━━━━━━━━━━━━━━━━━━━━━━━━━━━━━━━━━━━━\u001b[0m \u001b[32m50.4/50.4 kB\u001b[0m \u001b[31m3.6 MB/s\u001b[0m eta \u001b[36m0:00:00\u001b[0m\n",
            "\u001b[2K   \u001b[90m━━━━━━━━━━━━━━━━━━━━━━━━━━━━━━━━━━━━━━━━\u001b[0m \u001b[32m1.0/1.0 MB\u001b[0m \u001b[31m19.9 MB/s\u001b[0m eta \u001b[36m0:00:00\u001b[0m\n",
            "\u001b[2K   \u001b[90m━━━━━━━━━━━━━━━━━━━━━━━━━━━━━━━━━━━━━━━━\u001b[0m \u001b[32m2.3/2.3 MB\u001b[0m \u001b[31m60.9 MB/s\u001b[0m eta \u001b[36m0:00:00\u001b[0m\n",
            "\u001b[2K   \u001b[90m━━━━━━━━━━━━━━━━━━━━━━━━━━━━━━━━━━━━━━━━\u001b[0m \u001b[32m52.0/52.0 kB\u001b[0m \u001b[31m3.3 MB/s\u001b[0m eta \u001b[36m0:00:00\u001b[0m\n",
            "\u001b[2K   \u001b[90m━━━━━━━━━━━━━━━━━━━━━━━━━━━━━━━━━━━━━━━━\u001b[0m \u001b[32m204.3/204.3 kB\u001b[0m \u001b[31m15.0 MB/s\u001b[0m eta \u001b[36m0:00:00\u001b[0m\n",
            "\u001b[2K   \u001b[90m━━━━━━━━━━━━━━━━━━━━━━━━━━━━━━━━━━━━━━━━\u001b[0m \u001b[32m294.6/294.6 kB\u001b[0m \u001b[31m20.2 MB/s\u001b[0m eta \u001b[36m0:00:00\u001b[0m\n",
            "\u001b[2K   \u001b[90m━━━━━━━━━━━━━━━━━━━━━━━━━━━━━━━━━━━━━━━━\u001b[0m \u001b[32m1.1/1.1 MB\u001b[0m \u001b[31m44.7 MB/s\u001b[0m eta \u001b[36m0:00:00\u001b[0m\n",
            "\u001b[2K   \u001b[90m━━━━━━━━━━━━━━━━━━━━━━━━━━━━━━━━━━━━━━━━\u001b[0m \u001b[32m15.6/15.6 MB\u001b[0m \u001b[31m73.2 MB/s\u001b[0m eta \u001b[36m0:00:00\u001b[0m\n",
            "\u001b[2K   \u001b[90m━━━━━━━━━━━━━━━━━━━━━━━━━━━━━━━━━━━━━━━━\u001b[0m \u001b[32m139.8/139.8 kB\u001b[0m \u001b[31m10.4 MB/s\u001b[0m eta \u001b[36m0:00:00\u001b[0m\n",
            "\u001b[2K   \u001b[90m━━━━━━━━━━━━━━━━━━━━━━━━━━━━━━━━━━━━━━━━\u001b[0m \u001b[32m396.2/396.2 kB\u001b[0m \u001b[31m25.4 MB/s\u001b[0m eta \u001b[36m0:00:00\u001b[0m\n",
            "\u001b[2K   \u001b[90m━━━━━━━━━━━━━━━━━━━━━━━━━━━━━━━━━━━━━━━━\u001b[0m \u001b[32m150.7/150.7 kB\u001b[0m \u001b[31m10.9 MB/s\u001b[0m eta \u001b[36m0:00:00\u001b[0m\n",
            "\u001b[2K   \u001b[90m━━━━━━━━━━━━━━━━━━━━━━━━━━━━━━━━━━━━━━━━\u001b[0m \u001b[32m365.7/365.7 kB\u001b[0m \u001b[31m23.2 MB/s\u001b[0m eta \u001b[36m0:00:00\u001b[0m\n",
            "\u001b[2K   \u001b[90m━━━━━━━━━━━━━━━━━━━━━━━━━━━━━━━━━━━━━━━━\u001b[0m \u001b[32m76.4/76.4 kB\u001b[0m \u001b[31m5.7 MB/s\u001b[0m eta \u001b[36m0:00:00\u001b[0m\n",
            "\u001b[2K   \u001b[90m━━━━━━━━━━━━━━━━━━━━━━━━━━━━━━━━━━━━━━━━\u001b[0m \u001b[32m77.9/77.9 kB\u001b[0m \u001b[31m6.4 MB/s\u001b[0m eta \u001b[36m0:00:00\u001b[0m\n",
            "\u001b[2K   \u001b[90m━━━━━━━━━━━━━━━━━━━━━━━━━━━━━━━━━━━━━━━━\u001b[0m \u001b[32m318.9/318.9 kB\u001b[0m \u001b[31m22.3 MB/s\u001b[0m eta \u001b[36m0:00:00\u001b[0m\n",
            "\u001b[2K   \u001b[90m━━━━━━━━━━━━━━━━━━━━━━━━━━━━━━━━━━━━━━━━\u001b[0m \u001b[32m49.3/49.3 kB\u001b[0m \u001b[31m3.5 MB/s\u001b[0m eta \u001b[36m0:00:00\u001b[0m\n",
            "\u001b[2K   \u001b[90m━━━━━━━━━━━━━━━━━━━━━━━━━━━━━━━━━━━━━━━━\u001b[0m \u001b[32m141.9/141.9 kB\u001b[0m \u001b[31m10.3 MB/s\u001b[0m eta \u001b[36m0:00:00\u001b[0m\n",
            "\u001b[2K   \u001b[90m━━━━━━━━━━━━━━━━━━━━━━━━━━━━━━━━━━━━━━━━\u001b[0m \u001b[32m2.3/2.3 MB\u001b[0m \u001b[31m64.1 MB/s\u001b[0m eta \u001b[36m0:00:00\u001b[0m\n",
            "\u001b[2K   \u001b[90m━━━━━━━━━━━━━━━━━━━━━━━━━━━━━━━━━━━━━━━━\u001b[0m \u001b[32m58.3/58.3 kB\u001b[0m \u001b[31m4.4 MB/s\u001b[0m eta \u001b[36m0:00:00\u001b[0m\n",
            "\u001b[?25hCollecting json-repair\n",
            "  Downloading json_repair-0.28.4-py3-none-any.whl.metadata (9.0 kB)\n",
            "Downloading json_repair-0.28.4-py3-none-any.whl (13 kB)\n",
            "Installing collected packages: json-repair\n",
            "Successfully installed json-repair-0.28.4\n"
          ]
        }
      ],
      "source": [
        "!pip install --upgrade --quiet  langchain langchain-community langchain-openai langchain-ollama langchain-experimental neo4j tiktoken yfiles_jupyter_graphs python-dotenv\n",
        "!pip install json-repair\n",
        "!pip install --upgrade --quiet  langchain-openai langchain-community\n",
        "!pip install  py2neo\n",
        "!pip install neo4j\n",
        "!pip install --upgrade --quiet  langchain-openai langchain-community\n",
        "\n"
      ]
    },
    {
      "cell_type": "code",
      "source": [
        "from langchain_core.runnables import  RunnablePassthrough\n",
        "from langchain_core.prompts import ChatPromptTemplate\n",
        "from langchain_core.pydantic_v1 import BaseModel, Field\n",
        "from langchain_core.output_parsers import StrOutputParser\n",
        "import os\n",
        "from langchain_community.graphs import Neo4jGraph\n",
        "from langchain.text_splitter import RecursiveCharacterTextSplitter\n",
        "from langchain_openai import ChatOpenAI\n",
        "from langchain_community.chat_models import ChatOllama\n",
        "from langchain_experimental.graph_transformers import LLMGraphTransformer\n",
        "from neo4j import GraphDatabase\n",
        "from yfiles_jupyter_graphs import GraphWidget\n",
        "from langchain_community.vectorstores import Neo4jVector\n",
        "from langchain_openai import OpenAIEmbeddings\n",
        "from langchain_community.document_loaders import TextLoader\n",
        "\n",
        "\n",
        "from langchain_core.documents import Document\n",
        "\n",
        "from langchain_text_splitters import CharacterTextSplitter\n",
        "from langchain_community.vectorstores.neo4j_vector import remove_lucene_chars\n",
        "from google.colab import output\n",
        "output.enable_custom_widget_manager()\n",
        "import yaml\n",
        "\n",
        "from dotenv import load_dotenv\n",
        "\n",
        "load_dotenv()\n"
      ],
      "metadata": {
        "colab": {
          "base_uri": "https://localhost:8080/"
        },
        "id": "BWRzuMOpvy23",
        "outputId": "89cf6267-f776-4737-f1ed-f76d201de917"
      },
      "execution_count": 11,
      "outputs": [
        {
          "output_type": "execute_result",
          "data": {
            "text/plain": [
              "True"
            ]
          },
          "metadata": {},
          "execution_count": 11
        }
      ]
    },
    {
      "cell_type": "code",
      "source": [
        "graph = Neo4jGraph()"
      ],
      "metadata": {
        "id": "5NIe4x3vAdXX"
      },
      "execution_count": 5,
      "outputs": []
    },
    {
      "cell_type": "code",
      "source": [
        "loader = TextLoader(file_path=\"/content/dummytext.txt\")\n",
        "docs = loader.load()\n",
        "\n",
        "text_splitter = RecursiveCharacterTextSplitter(chunk_size=250, chunk_overlap=24)\n",
        "documents = text_splitter.split_documents(documents=docs)\n",
        "print(documents[:10])"
      ],
      "metadata": {
        "colab": {
          "base_uri": "https://localhost:8080/"
        },
        "id": "sjfgnbze_MIM",
        "outputId": "4dbf2c89-4d21-47b6-8ebe-0d6c9414e5ea"
      },
      "execution_count": 6,
      "outputs": [
        {
          "output_type": "stream",
          "name": "stdout",
          "text": [
            "[Document(metadata={'source': '/content/dummytext.txt'}, page_content='1. The Story of Amico’s Family: A Legacy of Love and Tradition'), Document(metadata={'source': '/content/dummytext.txt'}, page_content=\"In the idyllic village of Santa Caterina, amidst the rolling hills and sun-kissed landscapes of Sicily, lies the genesis of the Caruso family, a lineage intertwined with the island's rich culinary tapestry. The Carusos were not mere inhabitants of\"), Document(metadata={'source': '/content/dummytext.txt'}, page_content='not mere inhabitants of the land; they were the keepers of a culinary heritage that spanned generations. Each family member contributed their unique flair, crafting a narrative of flavors that reflected their diverse experiences and deep-seated love'), Document(metadata={'source': '/content/dummytext.txt'}, page_content='and deep-seated love for food.'), Document(metadata={'source': '/content/dummytext.txt'}, page_content='Giovanni Caruso and Maria: The Founding Generation'), Document(metadata={'source': '/content/dummytext.txt'}, page_content=\"Giovanni Caruso, Amico's great-grandfather, was a man of the earth. His calloused hands spoke of years spent cultivating the fertile soils of Santa Caterina, producing olives and grapes that were the pride of the region. Giovanni was not just a\"), Document(metadata={'source': '/content/dummytext.txt'}, page_content=\"Giovanni was not just a farmer but an alchemist of flavors, blending the fruits of his labor into exquisite oils and wines. His wife, Maria, was the soul of the kitchen. A masterful cook, Maria's dishes were a symphony of hearty stews and delicate\"), Document(metadata={'source': '/content/dummytext.txt'}, page_content=\"stews and delicate pastries, passed down from her ancestors and refined with her own touch. The couple's home was a haven of culinary experimentation and love, where their children were introduced to the secrets of the Sicilian kitchen.\"), Document(metadata={'source': '/content/dummytext.txt'}, page_content='Antonio Caruso: The Storyteller and Innovator'), Document(metadata={'source': '/content/dummytext.txt'}, page_content=\"Antonio, Giovanni and Maria's eldest son, inherited his parents' passion but added his flair for innovation. A charismatic storyteller, Antonio was known for captivating his family and the village with tales of their ancestry and the island's\")]\n"
          ]
        }
      ]
    },
    {
      "cell_type": "code",
      "source": [
        "llm_type = os.getenv(\"LLM_TYPE\", \"GPT_MODEL\")\n",
        "llm = ChatOpenAI(temperature=0, model=\"gpt-4o-mini\")\n",
        "llm_transformer = LLMGraphTransformer(llm=llm)\n",
        "\n",
        "graph_documents = llm_transformer.convert_to_graph_documents(documents)\n"
      ],
      "metadata": {
        "id": "4kUYar_g_WwG"
      },
      "execution_count": 7,
      "outputs": []
    },
    {
      "cell_type": "code",
      "source": [
        "graph_documents[0]"
      ],
      "metadata": {
        "colab": {
          "base_uri": "https://localhost:8080/"
        },
        "id": "vwAY3tvV_dKV",
        "outputId": "88e6f57f-f86e-43d9-a0bd-e90a03092dac"
      },
      "execution_count": 8,
      "outputs": [
        {
          "output_type": "execute_result",
          "data": {
            "text/plain": [
              "GraphDocument(nodes=[Node(id='Amico’S Family', type='Family'), Node(id='Love', type='Concept'), Node(id='Tradition', type='Concept')], relationships=[Relationship(source=Node(id='Amico’S Family', type='Family'), target=Node(id='Love', type='Concept'), type='HAS_LEGACY'), Relationship(source=Node(id='Amico’S Family', type='Family'), target=Node(id='Tradition', type='Concept'), type='HAS_LEGACY')], source=Document(metadata={'source': '/content/dummytext.txt'}, page_content='1. The Story of Amico’s Family: A Legacy of Love and Tradition'))"
            ]
          },
          "metadata": {},
          "execution_count": 8
        }
      ]
    },
    {
      "cell_type": "code",
      "source": [
        "graph.add_graph_documents(\n",
        "    graph_documents,\n",
        "    baseEntityLabel=True,\n",
        "    include_source=True\n",
        ")"
      ],
      "metadata": {
        "id": "wnEbaxvr_jsR"
      },
      "execution_count": 9,
      "outputs": []
    },
    {
      "cell_type": "code",
      "source": [
        "def showGraph():\n",
        "    driver = GraphDatabase.driver(\n",
        "        uri = os.environ[\"NEO4J_URI\"],\n",
        "        auth = (os.environ[\"NEO4J_USERNAME\"],\n",
        "                os.environ[\"NEO4J_PASSWORD\"]))\n",
        "    session = driver.session()\n",
        "    widget = GraphWidget(graph = session.run(\"MATCH (s)-[r:!MENTIONS]->(t) RETURN s,r,t\").graph())\n",
        "    widget.node_label_mapping = 'id'\n",
        "    return widget\n",
        "\n",
        "showGraph()"
      ],
      "metadata": {
        "colab": {
          "base_uri": "https://localhost:8080/",
          "height": 817,
          "referenced_widgets": [
            "70c71c94e9c54bdb8b96db285a02e2cb",
            "ba349e3333354718a6b4529940b821a6"
          ]
        },
        "id": "sCopbSZb_lod",
        "outputId": "ddf50914-d3e1-42c0-e1ba-badbab27206f"
      },
      "execution_count": 12,
      "outputs": [
        {
          "output_type": "display_data",
          "data": {
            "text/plain": [
              "GraphWidget(layout=Layout(height='800px', width='100%'))"
            ],
            "application/vnd.jupyter.widget-view+json": {
              "version_major": 2,
              "version_minor": 0,
              "model_id": "70c71c94e9c54bdb8b96db285a02e2cb"
            }
          },
          "metadata": {
            "application/vnd.jupyter.widget-view+json": {
              "colab": {
                "custom_widget_manager": {
                  "url": "https://ssl.gstatic.com/colaboratory-static/widgets/colab-cdn-widget-manager/2b70e893a8ba7c0f/manager.min.js"
                }
              }
            }
          }
        }
      ]
    },
    {
      "cell_type": "code",
      "source": [
        "vector_index = Neo4jVector.from_existing_graph(\n",
        "    OpenAIEmbeddings(model='text-embedding-3-large',dimensions=384),\n",
        "    search_type=\"hybrid\",\n",
        "    node_label=\"Document\",\n",
        "    text_node_properties=[\"text\"],\n",
        "    embedding_node_property=\"embedding\"\n",
        ")\n",
        "vector_retriever = vector_index.as_retriever()"
      ],
      "metadata": {
        "id": "DIYo8WXz_2I5"
      },
      "execution_count": 16,
      "outputs": []
    },
    {
      "cell_type": "code",
      "source": [
        "\n",
        "class Entities(BaseModel):\n",
        "    \"\"\"Identifying information about entities.\"\"\"\n",
        "\n",
        "    names: list[str] = Field(\n",
        "        ...,\n",
        "        description=\"All the person, organization, or business entities that \"\n",
        "        \"appear in the text\",\n",
        "    )\n",
        "\n",
        "prompt = ChatPromptTemplate.from_messages(\n",
        "    [\n",
        "        (\n",
        "            \"system\",\n",
        "            \"You are extracting organization and person entities from the text.\",\n",
        "        ),\n",
        "        (\n",
        "            \"human\",\n",
        "            \"Use the given format to extract information from the following \"\n",
        "            \"input: {question}\",\n",
        "        ),\n",
        "    ]\n",
        ")\n",
        "\n",
        "entity_chain = prompt | llm.with_structured_output(Entities)"
      ],
      "metadata": {
        "id": "b5p3gsMf_5s-"
      },
      "execution_count": 17,
      "outputs": []
    },
    {
      "cell_type": "code",
      "source": [
        "entity_chain.invoke({\"question\": \"Who are Nonna Lucia and Giovanni Caruso?\"}).names"
      ],
      "metadata": {
        "colab": {
          "base_uri": "https://localhost:8080/"
        },
        "id": "uZz2yLKe_7fE",
        "outputId": "27224dbd-9292-4740-e246-aa5352d421fa"
      },
      "execution_count": 18,
      "outputs": [
        {
          "output_type": "execute_result",
          "data": {
            "text/plain": [
              "['Nonna Lucia', 'Giovanni Caruso']"
            ]
          },
          "metadata": {},
          "execution_count": 18
        }
      ]
    },
    {
      "cell_type": "code",
      "source": [
        "from neo4j import  Driver\n",
        "from google.colab import userdata\n",
        "\n",
        "def initialize_fulltext_index(driver: Driver):\n",
        "    with driver.session() as session:\n",
        "        # Check if the index exists\n",
        "        session.run(\"CREATE FULLTEXT INDEX entity IF NOT EXISTS FOR (n:Document) ON EACH [n.text]\")\n",
        "        # logger.info(\"Fulltext index 'entity' created or already exists\")\n",
        "\n",
        "# Initialize Neo4j driver\n",
        "neo4j_driver = GraphDatabase.driver(userdata.get('NEO4J_URI'), auth=(\"neo4j\",userdata.get('NEO4J_PASSWORD')))\n",
        "\n",
        "# Initialize fulltext index\n",
        "initialize_fulltext_index(neo4j_driver)"
      ],
      "metadata": {
        "id": "rLfrUzUf_9Hf"
      },
      "execution_count": 21,
      "outputs": []
    },
    {
      "cell_type": "code",
      "source": [
        "def generate_full_text_query(input: str) -> str:\n",
        "    words = [el for el in remove_lucene_chars(input).split() if el]\n",
        "    if not words:\n",
        "        return \"\"\n",
        "    full_text_query = \" AND \".join([f\"{word}~2\" for word in words])\n",
        "    print(f\"Generated Query: {full_text_query}\")\n",
        "    print(full_text_query)\n",
        "    return full_text_query.strip()\n",
        "\n",
        "\n",
        "# Fulltext index query\n",
        "def graph_retriever(question: str) -> str:\n",
        "    \"\"\"\n",
        "    Collects the neighborhood of entities mentioned\n",
        "    in the question\n",
        "    \"\"\"\n",
        "\n",
        "    print(question)\n",
        "\n",
        "    result = \"\"\n",
        "    entities = entity_chain.invoke({\"question\": question})\n",
        "    print(entities)\n",
        "    for entity in entities.names:\n",
        "        response = graph.query(\n",
        "            \"\"\"CALL db.index.fulltext.queryNodes('entity', $query, {limit:2})\n",
        "            YIELD node,score\n",
        "            CALL {\n",
        "              WITH node\n",
        "              MATCH (node)-[r:!MENTIONS]->(neighbor)\n",
        "              RETURN node.id + ' - ' + type(r) + ' -> ' + neighbor.id AS output\n",
        "              UNION ALL\n",
        "              WITH node\n",
        "              MATCH (node)<-[r:!MENTIONS]-(neighbor)\n",
        "              RETURN neighbor.id + ' - ' + type(r) + ' -> ' +  node.id AS output\n",
        "            }\n",
        "            RETURN output LIMIT 50\n",
        "            \"\"\",\n",
        "            {\"query\": generate_full_text_query(entity)},\n",
        "        )\n",
        "        result += \"\\n\".join([el['output'] for el in response])\n",
        "    return result"
      ],
      "metadata": {
        "id": "W6UWpSrqACwz"
      },
      "execution_count": 24,
      "outputs": []
    },
    {
      "cell_type": "code",
      "source": [
        "print(graph_retriever(\"Who is Nonna Lucia?\"))"
      ],
      "metadata": {
        "colab": {
          "base_uri": "https://localhost:8080/"
        },
        "id": "AmO9LUdkTXFY",
        "outputId": "18a95884-8c47-4976-a6b3-e0a1f6f8f432"
      },
      "execution_count": 25,
      "outputs": [
        {
          "output_type": "stream",
          "name": "stdout",
          "text": [
            "Who is Nonna Lucia?\n",
            "names=['Nonna Lucia']\n",
            "Generated Query: Nonna~2 AND Lucia~2\n",
            "Nonna~2 AND Lucia~2\n"
          ]
        },
        {
          "output_type": "stream",
          "name": "stderr",
          "text": [
            "WARNING:neo4j.notifications:Received notification from DBMS server: {severity: WARNING} {code: Neo.ClientNotification.Statement.FeatureDeprecationWarning} {category: DEPRECATION} {title: This feature is deprecated and will be removed in future versions.} {description: CALL subquery without a variable scope clause is now deprecated. Use CALL (node, node) { ... }} {position: line: 3, column: 13, offset: 104} for query: \"CALL db.index.fulltext.queryNodes('entity', $query, {limit:2})\\n            YIELD node,score\\n            CALL {\\n              WITH node\\n              MATCH (node)-[r:!MENTIONS]->(neighbor)\\n              RETURN node.id + ' - ' + type(r) + ' -> ' + neighbor.id AS output\\n              UNION ALL\\n              WITH node\\n              MATCH (node)<-[r:!MENTIONS]-(neighbor)\\n              RETURN neighbor.id + ' - ' + type(r) + ' -> ' +  node.id AS output\\n            }\\n            RETURN output LIMIT 50\\n            \"\n"
          ]
        },
        {
          "output_type": "stream",
          "name": "stdout",
          "text": [
            "\n"
          ]
        }
      ]
    },
    {
      "cell_type": "code",
      "source": [
        "def full_retriever(question: str):\n",
        "    graph_data = graph_retriever(question)\n",
        "    vector_data = [el.page_content for el in vector_retriever.invoke(question)]\n",
        "    final_data = f\"\"\"Graph data:\n",
        "{graph_data}\n",
        "vector data:\n",
        "{\"#Document \". join(vector_data)}\n",
        "    \"\"\"\n",
        "    return final_data"
      ],
      "metadata": {
        "id": "RPEw03IATlKP"
      },
      "execution_count": 26,
      "outputs": []
    },
    {
      "cell_type": "code",
      "source": [
        "template = \"\"\"Answer the question based only on the following context:\n",
        "{context}\n",
        "\n",
        "Question: {question}\n",
        "Use natural language and be concise.\n",
        "Answer:\"\"\"\n",
        "prompt = ChatPromptTemplate.from_template(template)\n",
        "\n",
        "chain = (\n",
        "        {\n",
        "            \"context\": full_retriever,\n",
        "            \"question\": RunnablePassthrough(),\n",
        "        }\n",
        "    | prompt\n",
        "    | llm\n",
        "    | StrOutputParser()\n",
        ")"
      ],
      "metadata": {
        "id": "6aeNR4xTTmQY"
      },
      "execution_count": 27,
      "outputs": []
    },
    {
      "cell_type": "code",
      "source": [
        "chain.invoke(input=\"Who is Nonna Lucia? Did she teach anyone about restaurants or cooking?\")"
      ],
      "metadata": {
        "colab": {
          "base_uri": "https://localhost:8080/",
          "height": 160
        },
        "id": "WGfst5sITp1F",
        "outputId": "c4e8ae9d-9ac0-42d3-95ee-114f8cde624e"
      },
      "execution_count": 28,
      "outputs": [
        {
          "output_type": "stream",
          "name": "stdout",
          "text": [
            "Who is Nonna Lucia? Did she teach anyone about restaurants or cooking?\n",
            "names=['Nonna Lucia']\n",
            "Generated Query: Nonna~2 AND Lucia~2\n",
            "Nonna~2 AND Lucia~2\n"
          ]
        },
        {
          "output_type": "stream",
          "name": "stderr",
          "text": [
            "WARNING:neo4j.notifications:Received notification from DBMS server: {severity: WARNING} {code: Neo.ClientNotification.Statement.FeatureDeprecationWarning} {category: DEPRECATION} {title: This feature is deprecated and will be removed in future versions.} {description: CALL subquery without a variable scope clause is now deprecated. Use CALL (node, node) { ... }} {position: line: 3, column: 13, offset: 104} for query: \"CALL db.index.fulltext.queryNodes('entity', $query, {limit:2})\\n            YIELD node,score\\n            CALL {\\n              WITH node\\n              MATCH (node)-[r:!MENTIONS]->(neighbor)\\n              RETURN node.id + ' - ' + type(r) + ' -> ' + neighbor.id AS output\\n              UNION ALL\\n              WITH node\\n              MATCH (node)<-[r:!MENTIONS]-(neighbor)\\n              RETURN neighbor.id + ' - ' + type(r) + ' -> ' +  node.id AS output\\n            }\\n            RETURN output LIMIT 50\\n            \"\n",
            "WARNING:neo4j.notifications:Received notification from DBMS server: {severity: WARNING} {code: Neo.ClientNotification.Statement.FeatureDeprecationWarning} {category: DEPRECATION} {title: This feature is deprecated and will be removed in future versions.} {description: CALL subquery without a variable scope clause is now deprecated. Use CALL () { ... }} {position: line: 1, column: 1, offset: 0} for query: \"CALL { CALL db.index.vector.queryNodes($index, $k, $embedding) YIELD node, score WITH collect({node:node, score:score}) AS nodes, max(score) AS max UNWIND nodes AS n RETURN n.node AS node, (n.score / max) AS score UNION CALL db.index.fulltext.queryNodes($keyword_index, $query, {limit: $k}) YIELD node, score WITH collect({node:node, score:score}) AS nodes, max(score) AS max UNWIND nodes AS n RETURN n.node AS node, (n.score / max) AS score } WITH node, max(score) AS score ORDER BY score DESC LIMIT $k RETURN reduce(str='', k IN ['text'] | str + '\\\\n' + k + ': ' + coalesce(node[k], '')) AS text, node {.*, `embedding`: Null, id: Null, `text`: Null} AS metadata, score\"\n"
          ]
        },
        {
          "output_type": "execute_result",
          "data": {
            "text/plain": [
              "'Nonna Lucia is a character known for teaching her family about cooking and restaurants, sharing her culinary knowledge and traditions.'"
            ],
            "application/vnd.google.colaboratory.intrinsic+json": {
              "type": "string"
            }
          },
          "metadata": {},
          "execution_count": 28
        }
      ]
    }
  ]
}